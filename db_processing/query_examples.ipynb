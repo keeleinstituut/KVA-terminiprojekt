{
 "cells": [
  {
   "cell_type": "code",
   "execution_count": null,
   "metadata": {},
   "outputs": [],
   "source": [
    "import pandas as pd\n",
    "from qdrant_client import QdrantClient\n",
    "from qdrant_client.http.models import (FieldCondition, Filter, MatchText,\n",
    "                                       MatchValue)\n",
    "from sentence_transformers import SentenceTransformer"
   ]
  },
  {
   "cell_type": "code",
   "execution_count": null,
   "metadata": {},
   "outputs": [],
   "source": [
    "collection_name = \"kva_test_collection\"\n",
    "\n",
    "model = SentenceTransformer('intfloat/multilingual-e5-base')\n",
    "client = QdrantClient(\"\", port=6333)"
   ]
  },
  {
   "cell_type": "markdown",
   "metadata": {},
   "source": [
    "### Baasi ülevaade"
   ]
  },
  {
   "cell_type": "code",
   "execution_count": null,
   "metadata": {},
   "outputs": [],
   "source": [
    "first_page_results = client.scroll(\n",
    "    collection_name=collection_name,\n",
    "    scroll_filter=Filter(\n",
    "        must=[\n",
    "            FieldCondition(key=\"page_number\", match=MatchValue(value=1)),\n",
    "        ]\n",
    "    ),\n",
    "    limit=20,\n",
    "    with_payload=True,\n",
    "    with_vectors=False,\n",
    ")\n",
    "\n",
    "files_in_collection = set(record.payload['filename'] for record in first_page_results[0])\n",
    "print('\\n'.join(files_in_collection))"
   ]
  },
  {
   "cell_type": "markdown",
   "metadata": {},
   "source": [
    "### Filtrid"
   ]
  },
  {
   "cell_type": "code",
   "execution_count": null,
   "metadata": {},
   "outputs": [],
   "source": [
    "# Otsi ainult valideeritud andmetest\n",
    "query_filter = Filter(\n",
    "            must=[\n",
    "            FieldCondition(\n",
    "                key=\"validated\",\n",
    "                match=MatchValue(\n",
    "                    value=True,\n",
    "                ),\n",
    "            )\n",
    "        ])\n",
    "\n",
    "# Valideeritud andmed märksõnaga\n",
    "query_filter_subtoken_search = Filter(\n",
    "            must=[\n",
    "            FieldCondition(\n",
    "                key=\"validated\",\n",
    "                match=MatchValue(\n",
    "                    value=True),),\n",
    "            FieldCondition(\n",
    "                key=\"content_type\",\n",
    "                match=MatchValue(\n",
    "                    value=\"term\"),)\n",
    "        ])\n",
    "\n",
    "\n",
    "\"\"\"\n",
    "FieldCondition(\n",
    "    key=\"text\",\n",
    "    match=MatchText(text=\"temporary area defined by the Supreme Allied\"),\n",
    "    ),\n",
    "\"\"\"\n"
   ]
  },
  {
   "cell_type": "markdown",
   "metadata": {},
   "source": [
    "### Näited\n",
    "\n",
    "**LOGISTICS**\n",
    "* 'logistika'\n",
    "* 'logistics'\n",
    "* 'logistics can be defined as something that'\n",
    "* 'logistika tähendab näiteks'\n",
    "* 'logistika: kaupade, teenuste ja info liikumine, selle juhtimine ja korraldamine (hõlmab nt hankimist, vedu, ladustamist, jaotamist, tarbimist)' "
   ]
  },
  {
   "cell_type": "code",
   "execution_count": null,
   "metadata": {},
   "outputs": [],
   "source": [
    "def get_similarities(text, query_filter, collection_name=\"kva_test_collection\"):\n",
    "    search_result = client.search(\n",
    "    collection_name=collection_name,\n",
    "    query_vector=list(model.encode(text, normalize_embeddings=True).astype(float)), \n",
    "    query_filter=query_filter_subtoken_search,\n",
    "    limit=5)\n",
    "\n",
    "    result_dict = {\n",
    "    'text' : [],\n",
    "    'score':  [],\n",
    "    'content_type' : [],\n",
    "    'file': [],\n",
    "    'page': []\n",
    "}\n",
    "    for point in search_result:\n",
    "        result_dict['text'].append(point.payload[\"text\"])\n",
    "        result_dict['content_type'].append(point.payload[\"content_type\"])\n",
    "        result_dict['score'].append(point.score)\n",
    "        result_dict['file'].append(point.payload[\"filename\"])\n",
    "        result_dict['page'].append(point.payload[\"page_number\"])\n",
    "\n",
    "# DataFrame'i koostamine\n",
    "\n",
    "    df_properties = {\n",
    "    'white-space': 'pre-wrap', # Allows text to wrap within cells\n",
    "    'width': '300px', # Adjust as needed\n",
    "}\n",
    "\n",
    "    return pd.DataFrame(result_dict).style.set_properties(**df_properties)\n"
   ]
  },
  {
   "cell_type": "code",
   "execution_count": null,
   "metadata": {},
   "outputs": [],
   "source": [
    "text = 'Query: ' + 'logistika'\n",
    "get_similarities(text, query_filter)"
   ]
  },
  {
   "cell_type": "code",
   "execution_count": null,
   "metadata": {},
   "outputs": [],
   "source": [
    "text = 'Query: ' + 'logistics'\n",
    "get_similarities(text, query_filter)"
   ]
  },
  {
   "cell_type": "code",
   "execution_count": null,
   "metadata": {},
   "outputs": [],
   "source": [
    "text = 'Query: ' + 'logistics can be defined as a something that'\n",
    "get_similarities(text, query_filter)"
   ]
  },
  {
   "cell_type": "code",
   "execution_count": null,
   "metadata": {},
   "outputs": [],
   "source": [
    "text = 'Query: ' + 'logistikaks nimetatakse kaupade, teenuste ja info liikumine, selle juhtimine ja korraldamine (hõlmab nt hankimist, vedu, ladustamist, jaotamist, tarbimist)'\n",
    "get_similarities(text, query_filter_subtoken_search)"
   ]
  }
 ],
 "metadata": {
  "kernelspec": {
   "display_name": "Python 3",
   "language": "python",
   "name": "python3"
  },
  "language_info": {
   "codemirror_mode": {
    "name": "ipython",
    "version": 3
   },
   "file_extension": ".py",
   "mimetype": "text/x-python",
   "name": "python",
   "nbconvert_exporter": "python",
   "pygments_lexer": "ipython3",
   "version": "3.11.7"
  }
 },
 "nbformat": 4,
 "nbformat_minor": 2
}
