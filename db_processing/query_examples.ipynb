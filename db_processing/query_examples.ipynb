{
 "cells": [
  {
   "cell_type": "code",
   "execution_count": null,
   "metadata": {},
   "outputs": [],
   "source": [
    "\n",
    "from qdrant_client import QdrantClient\n",
    "from qdrant_client.http.models import Filter, FieldCondition, MatchValue, MatchText\n",
    "from sentence_transformers import SentenceTransformer\n"
   ]
  },
  {
   "cell_type": "code",
   "execution_count": null,
   "metadata": {},
   "outputs": [],
   "source": [
    "collection_name = \"kva_collection_test\"\n",
    "\n",
    "model = SentenceTransformer('intfloat/multilingual-e5-base')\n",
    "client = QdrantClient(\"localhost\", port=6333)"
   ]
  },
  {
   "cell_type": "code",
   "execution_count": null,
   "metadata": {},
   "outputs": [],
   "source": [
    "text = 'Query: ' + 'logistika tähendus on'"
   ]
  },
  {
   "cell_type": "code",
   "execution_count": null,
   "metadata": {},
   "outputs": [],
   "source": [
    "query_filter = Filter(\n",
    "            must=[\n",
    "            FieldCondition(\n",
    "                key=\"validated\",\n",
    "                match=MatchValue(\n",
    "                    value=True,\n",
    "                ),\n",
    "            )\n",
    "        ])\n",
    "\n",
    "query_filter_subtoken_search = Filter(\n",
    "            must=[\n",
    "            FieldCondition(\n",
    "                key=\"text\",\n",
    "                match=MatchText(text=\"temporary area defined by the Supreme Allied\"),\n",
    "                ),\n",
    "            FieldCondition(\n",
    "                key=\"validated\",\n",
    "                match=MatchValue(\n",
    "                    value=True,\n",
    "                ))\n",
    "        ])\n",
    "\n"
   ]
  },
  {
   "cell_type": "code",
   "execution_count": null,
   "metadata": {},
   "outputs": [],
   "source": [
    "search_result = client.search(\n",
    "    collection_name=\"kva_test_collection\", \n",
    "    query_vector=list(model.encode(text, normalize_embeddings=True).astype(float)), \n",
    "    query_filter=query_filter,\n",
    "    limit=5)\n",
    "\n",
    "for point in search_result:\n",
    "    print(f'SCORE: {point.score}\\n' \\\n",
    "          f'RETRIEVED TEXT:\\n {point.payload[\"text\"]}\\n\\n' \\\n",
    "          f'CONTENT TYPE: {point.payload[\"content_type\"]}\\n')\n",
    "    print('*'*25)"
   ]
  }
 ],
 "metadata": {
  "kernelspec": {
   "display_name": "Python 3",
   "language": "python",
   "name": "python3"
  },
  "language_info": {
   "codemirror_mode": {
    "name": "ipython",
    "version": 3
   },
   "file_extension": ".py",
   "mimetype": "text/x-python",
   "name": "python",
   "nbconvert_exporter": "python",
   "pygments_lexer": "ipython3",
   "version": "3.11.7"
  }
 },
 "nbformat": 4,
 "nbformat_minor": 2
}
