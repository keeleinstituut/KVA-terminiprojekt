{
 "cells": [
  {
   "cell_type": "code",
   "execution_count": 1,
   "metadata": {},
   "outputs": [],
   "source": [
    "from collins.helpers import entry_data_to_dataframe, entry_cobuild_data_to_dataframe\n",
    "from helpers import dataframes_to_excel\n",
    "from iate.helpers import search_results_to_dataframe\n",
    "from mw.helpers import json_to_df_with_definitions_and_usages\n",
    "import json"
   ]
  },
  {
   "cell_type": "markdown",
   "metadata": {},
   "source": [
    "# Otsing andmebaasidest\n",
    "- IATE\n",
    "- Merriam-Webster Collegiate Dictionary\n",
    "- Merriam-Webster Collegiate Thesaurus\n",
    "- Collins"
   ]
  },
  {
   "cell_type": "markdown",
   "metadata": {},
   "source": [
    "1. Otsisõna"
   ]
  },
  {
   "cell_type": "code",
   "execution_count": 2,
   "metadata": {},
   "outputs": [],
   "source": [
    "query = 'artillery'"
   ]
  },
  {
   "cell_type": "markdown",
   "metadata": {},
   "source": [
    "2. Lähtekeel"
   ]
  },
  {
   "cell_type": "code",
   "execution_count": 3,
   "metadata": {},
   "outputs": [],
   "source": [
    "source_language = 'en'"
   ]
  },
  {
   "cell_type": "markdown",
   "metadata": {},
   "source": [
    "3. Sihtkeeled"
   ]
  },
  {
   "cell_type": "code",
   "execution_count": 4,
   "metadata": {},
   "outputs": [],
   "source": [
    "target_languages = ['en', 'fr', 'et']"
   ]
  },
  {
   "cell_type": "markdown",
   "metadata": {},
   "source": [
    "4. Kas täpne või hajus otsing?\n",
    "\n",
    "5 - ‘Partial string’ retrieves results containing the search string within a longer string. The string doesn’t need to be full words. For example, searching for ‘book’ will retrieve ‘book’, but also ‘e-book’, ‘booking’, ‘notebook’, etc. (i.e. results which contain ‘book’ inside the string).\n",
    "\n",
    "search for energy generating product in English will retrieve:\n",
    "energy generating product\n",
    "energy-generating product (with a hyphen)\n",
    "energy–generating product (with an en-dash)\n",
    "energy—generating product (with an em-dash)"
   ]
  },
  {
   "cell_type": "code",
   "execution_count": 5,
   "metadata": {},
   "outputs": [],
   "source": [
    "optional_parameters = {\n",
    "    'query_operator': 5\n",
    "}"
   ]
  },
  {
   "cell_type": "markdown",
   "metadata": {},
   "source": [
    "5. Kas otsida terminitest või kõikjalt?"
   ]
  },
  {
   "cell_type": "code",
   "execution_count": 6,
   "metadata": {},
   "outputs": [],
   "source": [
    "search_type = 'search_terms'\n",
    "#search_type = 'search_definitions'"
   ]
  },
  {
   "cell_type": "code",
   "execution_count": 7,
   "metadata": {},
   "outputs": [],
   "source": [
    "iate_results = search_results_to_dataframe(query, source_language, target_languages, optional_parameters)\n",
    "collins_english_results = entry_data_to_dataframe('english', query, 100, 1)\n",
    "collins_cobuild_advanced_british_results = entry_cobuild_data_to_dataframe('english-learner', query, 100, 1)\n",
    "collins_cobuild_advanced_american_results = entry_cobuild_data_to_dataframe('american-learner', query, 100, 1)\n",
    "mw_dict_results = json_to_df_with_definitions_and_usages(query)\n",
    "\n",
    "dataframes_to_excel(iate_results, collins_english_results, collins_cobuild_advanced_british_results, collins_cobuild_advanced_american_results, mw_dict_results, 'output.xlsx')"
   ]
  }
 ],
 "metadata": {
  "kernelspec": {
   "display_name": "Python 3",
   "language": "python",
   "name": "python3"
  },
  "language_info": {
   "codemirror_mode": {
    "name": "ipython",
    "version": 3
   },
   "file_extension": ".py",
   "mimetype": "text/x-python",
   "name": "python",
   "nbconvert_exporter": "python",
   "pygments_lexer": "ipython3",
   "version": "3.8.0"
  }
 },
 "nbformat": 4,
 "nbformat_minor": 2
}
