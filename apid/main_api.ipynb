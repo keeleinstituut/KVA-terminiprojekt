{
 "cells": [
  {
   "cell_type": "code",
   "execution_count": 1,
   "metadata": {},
   "outputs": [],
   "source": [
    "from collins.helpers import entry_data_to_dataframe, entry_cobuild_data_to_dataframe\n",
    "from helpers import dataframes_to_excel\n",
    "from iate.helpers import search_results_to_dataframe\n",
    "from mw.helpers import json_to_df_with_definitions_and_usages\n",
    "from datetime import datetime"
   ]
  },
  {
   "cell_type": "markdown",
   "metadata": {},
   "source": [
    "# Otsing andmebaasidest\n",
    "- IATE\n",
    "- Merriam-Webster Collegiate Dictionary\n",
    "- Collins English Dictionary\n",
    "- Collins Cobuild Advanced British\n",
    "- Collins Cobuild Advanced American\n"
   ]
  },
  {
   "cell_type": "markdown",
   "metadata": {},
   "source": [
    "1. Otsisõna"
   ]
  },
  {
   "cell_type": "code",
   "execution_count": 2,
   "metadata": {},
   "outputs": [],
   "source": [
    "query = 'artillery'"
   ]
  },
  {
   "cell_type": "markdown",
   "metadata": {},
   "source": [
    "2. Lähtekeel"
   ]
  },
  {
   "cell_type": "code",
   "execution_count": 3,
   "metadata": {},
   "outputs": [],
   "source": [
    "source_language = 'en'"
   ]
  },
  {
   "cell_type": "markdown",
   "metadata": {},
   "source": [
    "3. Sihtkeeled"
   ]
  },
  {
   "cell_type": "code",
   "execution_count": 4,
   "metadata": {},
   "outputs": [],
   "source": [
    "target_languages = ['et']"
   ]
  },
  {
   "cell_type": "markdown",
   "metadata": {},
   "source": [
    "4. Mis väljadelt otsida? Terminitest otsitakse vaikimisi.\n",
    "- Term Entry Def 0\n",
    "- Term Entry Def Ref 1\n",
    "- Term Entry Note 2\n",
    "- Term Entry Context 3\n",
    "- Term Entry Context Ref 4\n",
    "- Language Entry Def 5\n",
    "- Language Entry Def Ref 6\n",
    "- Language Entry Note 7\n",
    "- Entry Code 8\n",
    "- Entry Id 9"
   ]
  },
  {
   "cell_type": "code",
   "execution_count": 5,
   "metadata": {},
   "outputs": [],
   "source": [
    "search_in_fields = [2,3,7]"
   ]
  },
  {
   "cell_type": "markdown",
   "metadata": {},
   "source": [
    "5. Kas täpne või hajus otsing?\n",
    "5 - ‘Partial string’ otsib sisalduvuse järgi. Erinevad sidekriipsud ja mõttekriipsud tulemusi ei mõjuta. Samuti ei mõjuta tulemusi diakriitilised märgid."
   ]
  },
  {
   "cell_type": "code",
   "execution_count": 6,
   "metadata": {},
   "outputs": [],
   "source": [
    "query_operator = 5"
   ]
  },
  {
   "cell_type": "code",
   "execution_count": 7,
   "metadata": {},
   "outputs": [],
   "source": [
    "optional_parameters = {\n",
    "    'query_operator': query_operator,\n",
    "    'search_in_fields': search_in_fields\n",
    "}"
   ]
  },
  {
   "cell_type": "code",
   "execution_count": 8,
   "metadata": {},
   "outputs": [],
   "source": [
    "iate_results = search_results_to_dataframe(query, source_language, target_languages, optional_parameters)\n",
    "collins_english_results = entry_data_to_dataframe('english', query, 100, 1)\n",
    "collins_cobuild_advanced_british_results = entry_cobuild_data_to_dataframe('english-learner', query, 100, 1)\n",
    "collins_cobuild_advanced_american_results = entry_cobuild_data_to_dataframe('american-learner', query, 100, 1)\n",
    "mw_dict_results = json_to_df_with_definitions_and_usages(query)\n",
    "\n",
    "filename = f'output_{datetime.now().strftime(\"%d-%m-%Y_%H-%M-%S\")}.xlsx'\n",
    "\n",
    "dataframes_to_excel(iate_results, collins_english_results, collins_cobuild_advanced_british_results, collins_cobuild_advanced_american_results, mw_dict_results, filename)"
   ]
  }
 ],
 "metadata": {
  "kernelspec": {
   "display_name": "Python 3",
   "language": "python",
   "name": "python3"
  },
  "language_info": {
   "codemirror_mode": {
    "name": "ipython",
    "version": 3
   },
   "file_extension": ".py",
   "mimetype": "text/x-python",
   "name": "python",
   "nbconvert_exporter": "python",
   "pygments_lexer": "ipython3",
   "version": "3.8.0"
  }
 },
 "nbformat": 4,
 "nbformat_minor": 2
}
