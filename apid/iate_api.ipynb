{
 "cells": [
  {
   "cell_type": "code",
   "execution_count": null,
   "metadata": {},
   "outputs": [],
   "source": [
    "from iate.helpers import print_single_search_results, print_languages, print_domains, print_term_types, print_reliabilities, print_query_operators, print_searchable_fields"
   ]
  },
  {
   "cell_type": "markdown",
   "metadata": {},
   "source": [
    "## IATE API näidispäringud\n",
    "\n",
    "Praegused probleemid:\n",
    "- Pagineeritud vastuse käsitlemine - seda pole praegu tehtud"
   ]
  },
  {
   "cell_type": "markdown",
   "metadata": {},
   "source": [
    "### Otsi termini järgi\n",
    "\n",
    "- Parameetriteks otsisõna, otsisõna keel, tulemuseks kuvatavate terminite keel. \n",
    "- Saab valida, kas otsida ainult terminitest või muudelt väljadelt (search_in_fields).\n",
    "- Saab valida, kas teha täpne või hägus otsing (query_operator). "
   ]
  },
  {
   "cell_type": "code",
   "execution_count": null,
   "metadata": {},
   "outputs": [],
   "source": [
    "query = 'capability'\n",
    "source_language = 'en'\n",
    "target_languages = ['en', 'fr', 'et']\n",
    "\n",
    "# The only matching option available when searching in other fields is ‘Partial string’.\n",
    "query_operator = 5\n",
    "\n",
    "# Searchable fields:\n",
    "# Term Entry Def 0\n",
    "# Term Entry Note 2\n",
    "# Term Entry Context 3\n",
    "# Language Entry Def 5\n",
    "# Language Entry Note 7\n",
    "\n",
    "search_type = 'full'\n",
    "\n",
    "if search_type == 'basic':\n",
    "    search_in_fields = []\n",
    "elif search_type == 'full':\n",
    "    search_in_fields = [2]\n",
    "else:\n",
    "    search_in_fields = []\n",
    "\n",
    "optional_parameters = {\n",
    "    'query_operator': query_operator,\n",
    "    'search_in_fields': search_in_fields\n",
    "}\n",
    "\n",
    "print_single_search_results(query, source_language, target_languages, optional_parameters)"
   ]
  },
  {
   "cell_type": "markdown",
   "metadata": {},
   "source": [
    "### Prindi IATE keeled\n",
    "\n",
    "Prindib esimesed 10."
   ]
  },
  {
   "cell_type": "code",
   "execution_count": null,
   "metadata": {},
   "outputs": [],
   "source": [
    "print_languages()"
   ]
  },
  {
   "cell_type": "markdown",
   "metadata": {},
   "source": [
    "### Prindi IATE valdkonnad"
   ]
  },
  {
   "cell_type": "code",
   "execution_count": null,
   "metadata": {},
   "outputs": [],
   "source": [
    "print_domains()"
   ]
  },
  {
   "cell_type": "markdown",
   "metadata": {},
   "source": [
    "### Prindi IATE termini tüübid"
   ]
  },
  {
   "cell_type": "code",
   "execution_count": null,
   "metadata": {},
   "outputs": [],
   "source": [
    "print_term_types()"
   ]
  },
  {
   "cell_type": "markdown",
   "metadata": {},
   "source": [
    "### Prindi IATE usaldusväärsuse tasemed"
   ]
  },
  {
   "cell_type": "code",
   "execution_count": null,
   "metadata": {},
   "outputs": [],
   "source": [
    "print_reliabilities()"
   ]
  },
  {
   "cell_type": "markdown",
   "metadata": {},
   "source": [
    "### Prindi _query operators_"
   ]
  },
  {
   "cell_type": "code",
   "execution_count": null,
   "metadata": {},
   "outputs": [],
   "source": [
    "print_query_operators()"
   ]
  },
  {
   "cell_type": "markdown",
   "metadata": {},
   "source": [
    "### Prindi väljad, millelt saab otsida"
   ]
  },
  {
   "cell_type": "code",
   "execution_count": null,
   "metadata": {},
   "outputs": [],
   "source": [
    "print_searchable_fields()"
   ]
  }
 ],
 "metadata": {
  "kernelspec": {
   "display_name": "Python 3",
   "language": "python",
   "name": "python3"
  },
  "language_info": {
   "codemirror_mode": {
    "name": "ipython",
    "version": 3
   },
   "file_extension": ".py",
   "mimetype": "text/x-python",
   "name": "python",
   "nbconvert_exporter": "python",
   "pygments_lexer": "ipython3",
   "version": "3.8.0"
  }
 },
 "nbformat": 4,
 "nbformat_minor": 2
}
