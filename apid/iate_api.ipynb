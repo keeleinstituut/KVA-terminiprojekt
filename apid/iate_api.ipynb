{
 "cells": [
  {
   "cell_type": "code",
   "execution_count": 9,
   "metadata": {},
   "outputs": [],
   "source": [
    "from iate.helpers import print_languages, print_domains, print_term_types, print_reliabilities, print_query_operators, print_searchable_fields"
   ]
  },
  {
   "cell_type": "markdown",
   "metadata": {},
   "source": [
    "## IATE API"
   ]
  },
  {
   "cell_type": "markdown",
   "metadata": {},
   "source": [
    "### Prindi IATE keeled\n",
    "\n",
    "Prindib esimesed 10."
   ]
  },
  {
   "cell_type": "code",
   "execution_count": 10,
   "metadata": {},
   "outputs": [
    {
     "name": "stdout",
     "output_type": "stream",
     "text": [
      "Bulgarian bg True\n",
      "Czech cs True\n",
      "Danish da True\n",
      "German de True\n",
      "Greek el True\n",
      "English en True\n",
      "Spanish es True\n",
      "Estonian et True\n",
      "Finnish fi True\n",
      "French fr True\n"
     ]
    }
   ],
   "source": [
    "print_languages()"
   ]
  },
  {
   "cell_type": "markdown",
   "metadata": {},
   "source": [
    "### Prindi IATE valdkonnad"
   ]
  },
  {
   "cell_type": "code",
   "execution_count": 11,
   "metadata": {},
   "outputs": [
    {
     "name": "stdout",
     "output_type": "stream",
     "text": [
      "087F792675B542528BC46B59D3531B0C Domain code not specified\n",
      "86817304A07344BC8B544B390129ADDF POLITICS\n",
      "5B8AB13A1DA9412F8EE914DD40D469E1 INTERNATIONAL RELATIONS\n",
      "70C8DCD591A145A69CBFAC9405AB90E1 EUROPEAN UNION\n",
      "1C9C154AD10E4515B60A5AEEB1A04B7C LAW\n",
      "D584E3659E834BACA1DA1DD3E3126C83 LAW\n",
      "D6C94594016B4658A46965FB99C8AD75 ECONOMICS\n",
      "7593C35C03034FBA9737E2A7EEADDD6A TRADE\n",
      "E60E2A656AFE4A42AF39186973A7C147 FINANCE\n",
      "DA589402904B41B9AFEC50E2D7F4873B SOCIAL QUESTIONS\n",
      "B00E2C4B57534B46AF57D55CFD2A57F5 EDUCATION AND COMMUNICATIONS\n",
      "10854A3F2F77404D9D2F61F5B4637862 SCIENCE\n",
      "78481530C8D346EFBC4CE34FBD730476 BUSINESS AND COMPETITION\n",
      "F93ED12A90064881879E66EEA9987598 EMPLOYMENT AND WORKING CONDITIONS\n",
      "24B780756F0347DBA43655C26D314335 TRANSPORT\n",
      "66699A1C0E0944FF8A9F48EE4DBE2380 ENVIRONMENT\n",
      "72A1660732C8425586108E39A2C583C4 AGRICULTURE, FORESTRY AND FISHERIES\n",
      "F31D0D1218884D29B48476DCBBED8842 AGRI-FOODSTUFFS\n",
      "09A36FE8540745B7BA5A2005E6A2A938 PRODUCTION, TECHNOLOGY AND RESEARCH\n",
      "ABFA176355804E60AE369AFC45908A66 ENERGY\n",
      "4DF1DD2C9CBE4C44A8CCAA1F1240C0A9 INDUSTRY\n",
      "4A656AB1792143FBB51BF1CC6AA9D4C4 GEOGRAPHY\n",
      "698DCDA39DF14751BB4E2449B7274C3D INTERNATIONAL ORGANISATIONS\n"
     ]
    }
   ],
   "source": [
    "print_domains()"
   ]
  },
  {
   "cell_type": "markdown",
   "metadata": {},
   "source": [
    "### Prindi IATE termini tüübid"
   ]
  },
  {
   "cell_type": "code",
   "execution_count": 12,
   "metadata": {},
   "outputs": [
    {
     "name": "stdout",
     "output_type": "stream",
     "text": [
      "{'meta': {'href': 'https://iate.europa.eu/em-api/inventories/EAEDF6B07C51470BB0EBA49FB90933A4'}, 'name': 'abbrev', 'code': 0}\n",
      "{'meta': {'href': 'https://iate.europa.eu/em-api/inventories/B819BBE45B31404BB9C479589C0CBF23'}, 'name': 'formula', 'code': 1}\n",
      "{'meta': {'href': 'https://iate.europa.eu/em-api/inventories/769795BFAE6F4EC1AE90DA642DAE59DD'}, 'name': 'phrase', 'code': 2}\n",
      "{'meta': {'href': 'https://iate.europa.eu/em-api/inventories/76C168D1645F40E9865915B1547E244F'}, 'name': 'short form', 'code': 3}\n",
      "{'meta': {'href': 'https://iate.europa.eu/em-api/inventories/C35C4D4AB8DD40A78B88ED6367CA2906'}, 'name': 'term', 'code': 4}\n",
      "{'meta': {'href': 'https://iate.europa.eu/em-api/inventories/7F00F60F04D74782A0C6168B7434DA40'}, 'name': 'lookup form', 'code': 5}\n",
      "{'meta': {'href': 'https://iate.europa.eu/em-api/inventories/A62D7180B1D446B0ACED49DDD6741D13'}, 'name': 'appellation', 'deprecated': True, 'code': 6}\n"
     ]
    }
   ],
   "source": [
    "print_term_types()"
   ]
  },
  {
   "cell_type": "markdown",
   "metadata": {},
   "source": [
    "### Prindi IATE usaldusväärsuse tasemed"
   ]
  },
  {
   "cell_type": "code",
   "execution_count": 13,
   "metadata": {},
   "outputs": [
    {
     "name": "stdout",
     "output_type": "stream",
     "text": [
      "{'meta': {'href': 'https://iate.europa.eu/em-api/inventories/1151D1AF388744C3AC0FDFD9410C0583'}, 'name': 'downgrade prior to deletion', 'code': 0}\n",
      "{'meta': {'href': 'https://iate.europa.eu/em-api/inventories/69CB5F0249554C57A1B9210C418B3624'}, 'name': 'reliability not verified', 'code': 1}\n",
      "{'meta': {'href': 'https://iate.europa.eu/em-api/inventories/76247AB6494642388F22B4F2714F5BA2'}, 'name': 'minimum reliability', 'code': 2}\n",
      "{'meta': {'href': 'https://iate.europa.eu/em-api/inventories/07D7D0BE3D0947CAB8D85998B8EA810A'}, 'name': 'reliable', 'code': 3}\n",
      "{'meta': {'href': 'https://iate.europa.eu/em-api/inventories/03A23182B4B845BC9149CAAACA9CC6E1'}, 'name': 'very reliable', 'code': 4}\n"
     ]
    }
   ],
   "source": [
    "print_reliabilities()"
   ]
  },
  {
   "cell_type": "markdown",
   "metadata": {},
   "source": [
    "### Prindi _query operators_"
   ]
  },
  {
   "cell_type": "code",
   "execution_count": 14,
   "metadata": {},
   "outputs": [
    {
     "name": "stdout",
     "output_type": "stream",
     "text": [
      "Any Word 0\n",
      "All Words 1\n",
      "Exact String 2\n",
      "Exact Match 3\n",
      "Regular Expression 4\n",
      "Partial String 5\n",
      "In 6\n",
      "Not In 7\n",
      "All 8\n",
      "Is Empty 9\n"
     ]
    }
   ],
   "source": [
    "print_query_operators()"
   ]
  },
  {
   "cell_type": "markdown",
   "metadata": {},
   "source": [
    "### Prindi väljad, millelt saab otsida"
   ]
  },
  {
   "cell_type": "code",
   "execution_count": 15,
   "metadata": {},
   "outputs": [
    {
     "name": "stdout",
     "output_type": "stream",
     "text": [
      "Term Entry Def 0\n",
      "Term Entry Def Ref 1\n",
      "Term Entry Note 2\n",
      "Term Entry Context 3\n",
      "Term Entry Context Ref 4\n",
      "Language Entry Def 5\n",
      "Language Entry Def Ref 6\n",
      "Language Entry Note 7\n",
      "Entry Code 8\n",
      "Entry Id 9\n"
     ]
    }
   ],
   "source": [
    "print_searchable_fields()"
   ]
  }
 ],
 "metadata": {
  "kernelspec": {
   "display_name": "Python 3",
   "language": "python",
   "name": "python3"
  },
  "language_info": {
   "codemirror_mode": {
    "name": "ipython",
    "version": 3
   },
   "file_extension": ".py",
   "mimetype": "text/x-python",
   "name": "python",
   "nbconvert_exporter": "python",
   "pygments_lexer": "ipython3",
   "version": "3.8.0"
  }
 },
 "nbformat": 4,
 "nbformat_minor": 2
}
