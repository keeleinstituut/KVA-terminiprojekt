{
 "cells": [
  {
   "cell_type": "code",
   "execution_count": null,
   "metadata": {},
   "outputs": [],
   "source": [
    "from iate.helpers import print_single_search_results, print_languages, print_domains, print_term_types, print_reliabilities, print_query_operators, print_searchable_fields"
   ]
  },
  {
   "cell_type": "markdown",
   "metadata": {},
   "source": [
    "## IATE API näidispäringud\n",
    "\n",
    "Praegused probleemid:\n",
    "- Pagineeritud vastuse käsitlemine - seda pole praegu tehtud\n",
    "- Tuleb teha mitu päringut, et soovitud infoni välja jõuda. Pole mõtet kõigega veel nii süvitsi minna, kui pole selge, kas seda kõike vaja on.\n",
    "- Pole selgust, mis väljadelt otsida ja kui hajusat otsingut lubada"
   ]
  },
  {
   "cell_type": "markdown",
   "metadata": {},
   "source": [
    "### Otsi termini järgi\n",
    "\n",
    "Parameetriteks otsisõna, otsisõna keel, tulemuseks kuvatavate terminite keel. Tagastab 10 esimest mõistekirjet. "
   ]
  },
  {
   "cell_type": "code",
   "execution_count": null,
   "metadata": {},
   "outputs": [],
   "source": [
    "query = 'war'\n",
    "source_language = 'en'\n",
    "target_languages = ['en', 'fr', 'fi']\n",
    "optional_parameters = {\n",
    "    'query_operator': 5\n",
    "}\n",
    "\n",
    "print_single_search_results(query, source_language, target_languages, optional_parameters)\n"
   ]
  },
  {
   "cell_type": "markdown",
   "metadata": {},
   "source": [
    "### Prindi IATE keeled\n",
    "\n",
    "Prindib esimesed 10."
   ]
  },
  {
   "cell_type": "code",
   "execution_count": null,
   "metadata": {},
   "outputs": [],
   "source": [
    "print_languages()"
   ]
  },
  {
   "cell_type": "markdown",
   "metadata": {},
   "source": [
    "### Prindi IATE valdkonnad"
   ]
  },
  {
   "cell_type": "code",
   "execution_count": null,
   "metadata": {},
   "outputs": [],
   "source": [
    "print_domains()"
   ]
  },
  {
   "cell_type": "markdown",
   "metadata": {},
   "source": [
    "### Prindi IATE termini tüübid"
   ]
  },
  {
   "cell_type": "code",
   "execution_count": null,
   "metadata": {},
   "outputs": [],
   "source": [
    "print_term_types()"
   ]
  },
  {
   "cell_type": "markdown",
   "metadata": {},
   "source": [
    "### Prindi IATE usaldusväärsuse tasemed"
   ]
  },
  {
   "cell_type": "code",
   "execution_count": null,
   "metadata": {},
   "outputs": [],
   "source": [
    "print_reliabilities()"
   ]
  },
  {
   "cell_type": "markdown",
   "metadata": {},
   "source": [
    "### Prindi _query operators_"
   ]
  },
  {
   "cell_type": "code",
   "execution_count": null,
   "metadata": {},
   "outputs": [],
   "source": [
    "print_query_operators()"
   ]
  },
  {
   "cell_type": "markdown",
   "metadata": {},
   "source": [
    "### Prindi väljad, millelt saab otsida"
   ]
  },
  {
   "cell_type": "code",
   "execution_count": null,
   "metadata": {},
   "outputs": [],
   "source": [
    "print_searchable_fields()"
   ]
  }
 ],
 "metadata": {
  "kernelspec": {
   "display_name": "Python 3",
   "language": "python",
   "name": "python3"
  },
  "language_info": {
   "codemirror_mode": {
    "name": "ipython",
    "version": 3
   },
   "file_extension": ".py",
   "mimetype": "text/x-python",
   "name": "python",
   "nbconvert_exporter": "python",
   "pygments_lexer": "ipython3",
   "version": "3.8.0"
  }
 },
 "nbformat": 4,
 "nbformat_minor": 2
}
