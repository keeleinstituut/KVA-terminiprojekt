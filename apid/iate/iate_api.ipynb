{
 "cells": [
  {
   "cell_type": "code",
   "execution_count": 1,
   "metadata": {},
   "outputs": [],
   "source": [
    "import authentication_requests\n",
    "import catalogue_requests\n",
    "import entries_requests\n",
    "import helpers\n",
    "import json"
   ]
  },
  {
   "cell_type": "markdown",
   "metadata": {},
   "source": [
    "## IATE API näidispäringud\n",
    "\n",
    "Praegused probleemid:\n",
    "- Pagineeritud vastuse käsitlemine - seda pole praegu tehtud\n",
    "- Tuleb teha mitu päringut, et soovitud infoni välja jõuda. Pole mõtet kõigega veel nii süvitsi minna, kui pole selge, kas seda kõike vaja on."
   ]
  },
  {
   "cell_type": "markdown",
   "metadata": {},
   "source": [
    "### Prindi IATE keeled\n",
    "\n",
    "Prindib esimesed 10."
   ]
  },
  {
   "cell_type": "code",
   "execution_count": 2,
   "metadata": {},
   "outputs": [
    {
     "name": "stdout",
     "output_type": "stream",
     "text": [
      "Bulgarian bg True\n",
      "Czech cs True\n",
      "Danish da True\n",
      "German de True\n",
      "Greek el True\n",
      "English en True\n",
      "Spanish es True\n",
      "Estonian et True\n",
      "Finnish fi True\n",
      "French fr True\n"
     ]
    }
   ],
   "source": [
    "helpers.print_languages()"
   ]
  },
  {
   "cell_type": "markdown",
   "metadata": {},
   "source": [
    "### Prindi IATE valdkonnad"
   ]
  },
  {
   "cell_type": "code",
   "execution_count": 3,
   "metadata": {},
   "outputs": [
    {
     "name": "stdout",
     "output_type": "stream",
     "text": [
      "087F792675B542528BC46B59D3531B0C Domain code not specified\n",
      "86817304A07344BC8B544B390129ADDF POLITICS\n",
      "5B8AB13A1DA9412F8EE914DD40D469E1 INTERNATIONAL RELATIONS\n",
      "70C8DCD591A145A69CBFAC9405AB90E1 EUROPEAN UNION\n",
      "1C9C154AD10E4515B60A5AEEB1A04B7C LAW\n",
      "D584E3659E834BACA1DA1DD3E3126C83 LAW\n",
      "D6C94594016B4658A46965FB99C8AD75 ECONOMICS\n",
      "7593C35C03034FBA9737E2A7EEADDD6A TRADE\n",
      "E60E2A656AFE4A42AF39186973A7C147 FINANCE\n",
      "DA589402904B41B9AFEC50E2D7F4873B SOCIAL QUESTIONS\n",
      "B00E2C4B57534B46AF57D55CFD2A57F5 EDUCATION AND COMMUNICATIONS\n",
      "10854A3F2F77404D9D2F61F5B4637862 SCIENCE\n",
      "78481530C8D346EFBC4CE34FBD730476 BUSINESS AND COMPETITION\n",
      "F93ED12A90064881879E66EEA9987598 EMPLOYMENT AND WORKING CONDITIONS\n",
      "24B780756F0347DBA43655C26D314335 TRANSPORT\n",
      "66699A1C0E0944FF8A9F48EE4DBE2380 ENVIRONMENT\n",
      "72A1660732C8425586108E39A2C583C4 AGRICULTURE, FORESTRY AND FISHERIES\n",
      "F31D0D1218884D29B48476DCBBED8842 AGRI-FOODSTUFFS\n",
      "09A36FE8540745B7BA5A2005E6A2A938 PRODUCTION, TECHNOLOGY AND RESEARCH\n",
      "ABFA176355804E60AE369AFC45908A66 ENERGY\n",
      "4DF1DD2C9CBE4C44A8CCAA1F1240C0A9 INDUSTRY\n",
      "4A656AB1792143FBB51BF1CC6AA9D4C4 GEOGRAPHY\n",
      "698DCDA39DF14751BB4E2449B7274C3D INTERNATIONAL ORGANISATIONS\n"
     ]
    }
   ],
   "source": [
    "helpers.print_domains()"
   ]
  },
  {
   "cell_type": "markdown",
   "metadata": {},
   "source": [
    "### Prindi IATE termini tüübid"
   ]
  },
  {
   "cell_type": "code",
   "execution_count": 4,
   "metadata": {},
   "outputs": [
    {
     "name": "stdout",
     "output_type": "stream",
     "text": [
      "{'meta': {'href': 'https://iate.europa.eu/em-api/inventories/EAEDF6B07C51470BB0EBA49FB90933A4'}, 'name': 'abbrev', 'code': 0}\n",
      "{'meta': {'href': 'https://iate.europa.eu/em-api/inventories/B819BBE45B31404BB9C479589C0CBF23'}, 'name': 'formula', 'code': 1}\n",
      "{'meta': {'href': 'https://iate.europa.eu/em-api/inventories/769795BFAE6F4EC1AE90DA642DAE59DD'}, 'name': 'phrase', 'code': 2}\n",
      "{'meta': {'href': 'https://iate.europa.eu/em-api/inventories/76C168D1645F40E9865915B1547E244F'}, 'name': 'short form', 'code': 3}\n",
      "{'meta': {'href': 'https://iate.europa.eu/em-api/inventories/C35C4D4AB8DD40A78B88ED6367CA2906'}, 'name': 'term', 'code': 4}\n",
      "{'meta': {'href': 'https://iate.europa.eu/em-api/inventories/7F00F60F04D74782A0C6168B7434DA40'}, 'name': 'lookup form', 'code': 5}\n",
      "{'meta': {'href': 'https://iate.europa.eu/em-api/inventories/A62D7180B1D446B0ACED49DDD6741D13'}, 'name': 'appellation', 'deprecated': True, 'code': 6}\n"
     ]
    }
   ],
   "source": [
    "helpers.print_term_types()"
   ]
  },
  {
   "cell_type": "markdown",
   "metadata": {},
   "source": [
    "### Prindi IATE usaldusväärsuse tasemed"
   ]
  },
  {
   "cell_type": "code",
   "execution_count": 5,
   "metadata": {},
   "outputs": [
    {
     "name": "stdout",
     "output_type": "stream",
     "text": [
      "{'meta': {'href': 'https://iate.europa.eu/em-api/inventories/1151D1AF388744C3AC0FDFD9410C0583'}, 'name': 'downgrade prior to deletion', 'code': 0}\n",
      "{'meta': {'href': 'https://iate.europa.eu/em-api/inventories/69CB5F0249554C57A1B9210C418B3624'}, 'name': 'reliability not verified', 'code': 1}\n",
      "{'meta': {'href': 'https://iate.europa.eu/em-api/inventories/76247AB6494642388F22B4F2714F5BA2'}, 'name': 'minimum reliability', 'code': 2}\n",
      "{'meta': {'href': 'https://iate.europa.eu/em-api/inventories/07D7D0BE3D0947CAB8D85998B8EA810A'}, 'name': 'reliable', 'code': 3}\n",
      "{'meta': {'href': 'https://iate.europa.eu/em-api/inventories/03A23182B4B845BC9149CAAACA9CC6E1'}, 'name': 'very reliable', 'code': 4}\n"
     ]
    }
   ],
   "source": [
    "helpers.print_reliabilities()"
   ]
  },
  {
   "cell_type": "markdown",
   "metadata": {},
   "source": [
    "### Otsi termini järgi\n",
    "\n",
    "Parameetriteks otsisõna, otsisõna keel, tulemuseks kuvatavate terminite keel."
   ]
  },
  {
   "cell_type": "code",
   "execution_count": 6,
   "metadata": {},
   "outputs": [
    {
     "name": "stdout",
     "output_type": "stream",
     "text": [
      "{'items': [{'self': {'href': 'https://iate.europa.eu/em-api/entries/8279203FF8A5AE7CE053C3E4A79E4140', 'method': 'GET', 'accept_media_types': ['application/vnd.iate.entry+json;version=1', 'application/vnd.iate.entry+json;version=2', 'application/vnd.iate.entry+json', 'application/json', '*/*']}}], 'offset': 0, 'limit': 10, 'size': 1, 'self': {'href': 'https://iate.europa.eu/em-api/entries/_search', 'method': 'POST', 'content_media_types': ['application/vnd.iate.entry-search+json;version=1', 'application/vnd.iate.entry-search+json', 'application/json', '*/*'], 'accept_media_types': ['application/vnd.iate.entry+json;version=1', 'application/vnd.iate.entry+json;version=2', 'application/vnd.iate.entry+json', 'application/json', '*/*']}, 'create': {'href': 'https://iate.europa.eu/em-api/entries', 'method': 'POST', 'content_media_types': ['application/vnd.iate.entry-create+json;version=1', 'application/vnd.iate.entry-create+json', 'application/json', '*/*'], 'accept_media_types': ['application/vnd.iate.entry+json;version=1', 'application/vnd.iate.entry+json;version=2', 'application/vnd.iate.entry+json', 'application/json', '*/*']}, 'search': {'href': 'https://iate.europa.eu/em-api/entries/_search', 'method': 'POST', 'content_media_types': ['application/vnd.iate.entry-search+json;version=1', 'application/vnd.iate.entry-search+json', 'application/json', '*/*'], 'accept_media_types': ['application/vnd.iate.entry+json;version=1', 'application/vnd.iate.entry+json;version=2', 'application/vnd.iate.entry+json', 'application/json', '*/*']}, 'bulk_creation_from_tem_monolingual': {'href': 'https://iate.europa.eu/em-api/entries/_bulk_creation_from_tem_monolingual', 'method': 'POST', 'content_media_types': ['application/vnd.iate.entry-bulk-creation-from-tem-monolingual+json;version=1', 'application/vnd.iate.entry-bulk-creation-from-tem-monolingual+json', 'application/json', '*/*'], 'accept_media_types': ['application/vnd.iate.entry-bulk-creation-from-tem-monolingual-response+json;entry_version=V1;version=1_1', 'application/vnd.iate.entry-bulk-creation-from-tem-monolingual-response+json;entry_version=V2;version=1_2', 'application/vnd.iate.entry-bulk-creation-from-tem-monolingual-response+json', 'application/json', '*/*']}, 'bulk_creation_from_tem_bilingual': {'href': 'https://iate.europa.eu/em-api/entries/_bulk_creation_from_tem_bilingual', 'method': 'POST', 'content_media_types': ['application/vnd.iate.entry-bulk-creation-from-tem-bilingual+json;version=1', 'application/vnd.iate.entry-bulk-creation-from-tem-bilingual+json', 'application/json', '*/*'], 'accept_media_types': ['application/vnd.iate.entry-bulk-creation-from-tem-bilingual-response+json;entry_version=V1;tem_alignment_version=V1;version=1_1', 'application/vnd.iate.entry-bulk-creation-from-tem-bilingual-response+json;entry_version=V2;tem_alignment_version=V1;version=1_2', 'application/vnd.iate.entry-bulk-creation-from-tem-bilingual-response+json', 'application/json', '*/*']}, 'advanced_search': {'href': 'https://iate.europa.eu/em-api/entries/_advanced_search', 'method': 'POST', 'content_media_types': ['application/vnd.iate.entry-advanced-search+json;version=1', 'application/vnd.iate.entry-advanced-search+json', 'application/json', '*/*'], 'accept_media_types': ['application/vnd.iate.entry+json;version=1', 'application/vnd.iate.entry+json;version=2', 'application/vnd.iate.entry+json', 'application/json', '*/*']}, 'merge': {'href': 'https://iate.europa.eu/em-api/entries/_merge', 'method': 'POST', 'content_media_types': ['application/vnd.iate.entry-merge+json;version=1', 'application/vnd.iate.entry-merge+json', 'application/json', '*/*'], 'accept_media_types': ['application/vnd.iate.entry+json;version=1', 'application/vnd.iate.entry+json;version=2', 'application/vnd.iate.entry+json', 'application/json', '*/*']}, 'automatic_merge': {'href': 'https://iate.europa.eu/em-api/entries/_automatic_merge', 'method': 'POST', 'content_media_types': ['application/vnd.iate.entry-automatic-merge+json;version=1', 'application/vnd.iate.entry-automatic-merge+json', 'application/json', '*/*'], 'accept_media_types': ['application/vnd.iate.entry+json;version=1', 'application/vnd.iate.entry+json;version=2', 'application/vnd.iate.entry+json', 'application/json', '*/*']}, 'dry_automatic_merge': {'href': 'https://iate.europa.eu/em-api/entries/_dry_automatic_merge', 'method': 'POST', 'content_media_types': ['application/vnd.iate.entry-automatic-merge+json;version=1', 'application/vnd.iate.entry-automatic-merge+json', 'application/json', '*/*'], 'accept_media_types': ['application/vnd.iate.entry+json;version=1', 'application/vnd.iate.entry+json;version=2', 'application/vnd.iate.entry+json', 'application/json', '*/*']}, 'suggest': {'href': 'https://iate.europa.eu/em-api/entries/_suggest', 'method': 'POST', 'content_media_types': ['application/vnd.iate.entry-suggest-create+json;version=1', 'application/vnd.iate.entry-suggest-create+json', 'application/json', '*/*'], 'accept_media_types': ['application/vnd.iate.entry-suggest+json;version=1', 'application/vnd.iate.entry-suggest+json', 'application/json', '*/*']}, 'search_request': {'sources': ['en', 'la', 'mul'], 'targets': ['fr', 'de', 'la', 'mul'], 'query_operator': 1, 'query': 'greenwash', 'search_in_fields': [0]}}\n",
      "Otsing: greenwash\n",
      "\n",
      "Definitsioonid\n",
      "\n",
      "en: disinformation disseminated by an organisation, etc., so as to present an environmentally responsible public image; or a public image of environmental responsibility promulgated by or for an organisation, etc., but perceived as being unfounded or intentionally misleading\n",
      "fr: attribution abusive de qualités écologiques à un produit, à un service ou à une organisation\n",
      "de: Versuch von Unternehmen, durch Marketing- und PR-Maßnahmen ein Image als umweltfreundlich handelndes Unternehmen zu erlangen, ohne tatsächlich zum Umweltschutz beizutragen\n"
     ]
    }
   ],
   "source": [
    "query = 'greenwash'\n",
    "source_language = 'en'\n",
    "target_languages = ['fr', 'de']\n",
    "\n",
    "helpers.print_single_search_results(query, source_language, target_languages)"
   ]
  }
 ],
 "metadata": {
  "kernelspec": {
   "display_name": "Python 3",
   "language": "python",
   "name": "python3"
  },
  "language_info": {
   "codemirror_mode": {
    "name": "ipython",
    "version": 3
   },
   "file_extension": ".py",
   "mimetype": "text/x-python",
   "name": "python",
   "nbconvert_exporter": "python",
   "pygments_lexer": "ipython3",
   "version": "3.8.0"
  }
 },
 "nbformat": 4,
 "nbformat_minor": 2
}
