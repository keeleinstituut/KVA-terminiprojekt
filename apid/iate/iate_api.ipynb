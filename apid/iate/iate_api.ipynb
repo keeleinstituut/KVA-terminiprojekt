{
 "cells": [
  {
   "cell_type": "code",
   "execution_count": 1,
   "metadata": {},
   "outputs": [],
   "source": [
    "import authentication_requests\n",
    "import catalogue_requests\n",
    "import entries_requests\n",
    "import helpers\n",
    "import json"
   ]
  },
  {
   "cell_type": "markdown",
   "metadata": {},
   "source": [
    "## IATE API näidispäringud\n",
    "\n",
    "Praegused probleemid:\n",
    "- Pagineeritud vastuse käsitlemine - seda pole praegu tehtud\n",
    "- Tuleb teha mitu päringut, et soovitud infoni välja jõuda. Pole mõtet kõigega veel nii süvitsi minna, kui pole selge, kas seda kõike vaja on."
   ]
  },
  {
   "cell_type": "markdown",
   "metadata": {},
   "source": [
    "### Prindi IATE keeled\n",
    "\n",
    "Prindib esimesed 10."
   ]
  },
  {
   "cell_type": "code",
   "execution_count": 2,
   "metadata": {},
   "outputs": [
    {
     "name": "stdout",
     "output_type": "stream",
     "text": [
      "Bulgarian bg True\n",
      "Czech cs True\n",
      "Danish da True\n",
      "German de True\n",
      "Greek el True\n",
      "English en True\n",
      "Spanish es True\n",
      "Estonian et True\n",
      "Finnish fi True\n",
      "French fr True\n"
     ]
    }
   ],
   "source": [
    "helpers.print_languages()"
   ]
  },
  {
   "cell_type": "markdown",
   "metadata": {},
   "source": [
    "### Prindi IATE valdkonnad"
   ]
  },
  {
   "cell_type": "code",
   "execution_count": 3,
   "metadata": {},
   "outputs": [
    {
     "name": "stdout",
     "output_type": "stream",
     "text": [
      "087F792675B542528BC46B59D3531B0C Domain code not specified\n",
      "86817304A07344BC8B544B390129ADDF POLITICS\n",
      "5B8AB13A1DA9412F8EE914DD40D469E1 INTERNATIONAL RELATIONS\n",
      "70C8DCD591A145A69CBFAC9405AB90E1 EUROPEAN UNION\n",
      "1C9C154AD10E4515B60A5AEEB1A04B7C LAW\n",
      "D584E3659E834BACA1DA1DD3E3126C83 LAW\n",
      "D6C94594016B4658A46965FB99C8AD75 ECONOMICS\n",
      "7593C35C03034FBA9737E2A7EEADDD6A TRADE\n",
      "E60E2A656AFE4A42AF39186973A7C147 FINANCE\n",
      "DA589402904B41B9AFEC50E2D7F4873B SOCIAL QUESTIONS\n",
      "B00E2C4B57534B46AF57D55CFD2A57F5 EDUCATION AND COMMUNICATIONS\n",
      "10854A3F2F77404D9D2F61F5B4637862 SCIENCE\n",
      "78481530C8D346EFBC4CE34FBD730476 BUSINESS AND COMPETITION\n",
      "F93ED12A90064881879E66EEA9987598 EMPLOYMENT AND WORKING CONDITIONS\n",
      "24B780756F0347DBA43655C26D314335 TRANSPORT\n",
      "66699A1C0E0944FF8A9F48EE4DBE2380 ENVIRONMENT\n",
      "72A1660732C8425586108E39A2C583C4 AGRICULTURE, FORESTRY AND FISHERIES\n",
      "F31D0D1218884D29B48476DCBBED8842 AGRI-FOODSTUFFS\n",
      "09A36FE8540745B7BA5A2005E6A2A938 PRODUCTION, TECHNOLOGY AND RESEARCH\n",
      "ABFA176355804E60AE369AFC45908A66 ENERGY\n",
      "4DF1DD2C9CBE4C44A8CCAA1F1240C0A9 INDUSTRY\n",
      "4A656AB1792143FBB51BF1CC6AA9D4C4 GEOGRAPHY\n",
      "698DCDA39DF14751BB4E2449B7274C3D INTERNATIONAL ORGANISATIONS\n"
     ]
    }
   ],
   "source": [
    "helpers.print_domains()"
   ]
  },
  {
   "cell_type": "markdown",
   "metadata": {},
   "source": [
    "### Prindi IATE termini tüübid"
   ]
  },
  {
   "cell_type": "code",
   "execution_count": 4,
   "metadata": {},
   "outputs": [
    {
     "name": "stdout",
     "output_type": "stream",
     "text": [
      "{'meta': {'href': 'https://iate.europa.eu/em-api/inventories/EAEDF6B07C51470BB0EBA49FB90933A4'}, 'name': 'abbrev', 'code': 0}\n",
      "{'meta': {'href': 'https://iate.europa.eu/em-api/inventories/B819BBE45B31404BB9C479589C0CBF23'}, 'name': 'formula', 'code': 1}\n",
      "{'meta': {'href': 'https://iate.europa.eu/em-api/inventories/769795BFAE6F4EC1AE90DA642DAE59DD'}, 'name': 'phrase', 'code': 2}\n",
      "{'meta': {'href': 'https://iate.europa.eu/em-api/inventories/76C168D1645F40E9865915B1547E244F'}, 'name': 'short form', 'code': 3}\n",
      "{'meta': {'href': 'https://iate.europa.eu/em-api/inventories/C35C4D4AB8DD40A78B88ED6367CA2906'}, 'name': 'term', 'code': 4}\n",
      "{'meta': {'href': 'https://iate.europa.eu/em-api/inventories/7F00F60F04D74782A0C6168B7434DA40'}, 'name': 'lookup form', 'code': 5}\n",
      "{'meta': {'href': 'https://iate.europa.eu/em-api/inventories/A62D7180B1D446B0ACED49DDD6741D13'}, 'name': 'appellation', 'deprecated': True, 'code': 6}\n"
     ]
    }
   ],
   "source": [
    "helpers.print_term_types()"
   ]
  },
  {
   "cell_type": "markdown",
   "metadata": {},
   "source": [
    "### Prindi IATE usaldusväärsuse tasemed"
   ]
  },
  {
   "cell_type": "code",
   "execution_count": 5,
   "metadata": {},
   "outputs": [
    {
     "name": "stdout",
     "output_type": "stream",
     "text": [
      "{'meta': {'href': 'https://iate.europa.eu/em-api/inventories/1151D1AF388744C3AC0FDFD9410C0583'}, 'name': 'downgrade prior to deletion', 'code': 0}\n",
      "{'meta': {'href': 'https://iate.europa.eu/em-api/inventories/69CB5F0249554C57A1B9210C418B3624'}, 'name': 'reliability not verified', 'code': 1}\n",
      "{'meta': {'href': 'https://iate.europa.eu/em-api/inventories/76247AB6494642388F22B4F2714F5BA2'}, 'name': 'minimum reliability', 'code': 2}\n",
      "{'meta': {'href': 'https://iate.europa.eu/em-api/inventories/07D7D0BE3D0947CAB8D85998B8EA810A'}, 'name': 'reliable', 'code': 3}\n",
      "{'meta': {'href': 'https://iate.europa.eu/em-api/inventories/03A23182B4B845BC9149CAAACA9CC6E1'}, 'name': 'very reliable', 'code': 4}\n"
     ]
    }
   ],
   "source": [
    "helpers.print_reliabilities()"
   ]
  },
  {
   "cell_type": "markdown",
   "metadata": {},
   "source": [
    "### Otsi termini järgi\n",
    "\n",
    "Parameetriteks otsisõna, otsisõna keel, tulemuseks kuvatavate terminite keel."
   ]
  },
  {
   "cell_type": "code",
   "execution_count": 3,
   "metadata": {},
   "outputs": [
    {
     "name": "stdout",
     "output_type": "stream",
     "text": [
      "ID: 2250797\n",
      "Valdkonna kood: BC45F08940E24EEF8BC5F2FCBD0F110F\n",
      "Valdkonna kood: FC918A21A4A0419EB609089207511CB9\n",
      "Valdkonna kood: 32D1887014564587B97B64F9041F4AA9\n",
      "Loomise aeg: 2008-09-12T08:26:10.001Z\n",
      "Muutmise aeg: 2023-09-14T07:20:42.135Z\n",
      "Olek: 1 \n",
      "\n",
      "EN:\n",
      "Definitsioon: disinformation disseminated by an organisation, etc., so as to present an environmentally responsible public image; or a public image of environmental responsibility promulgated by or for an organisation, etc., but perceived as being unfounded or intentionally misleading\n",
      "Definitisiooni allikaviide: Oxford English Dictionary &gt; greenwash, \n",
      "<i>n.</i>, <a href=\"http://dictionary.oed.com/cgi/entry/00314307?query_type=word&amp;queryword=greenwash&amp;first=1&amp;max_to_show=10&amp;sort_type=alpha&amp;result_place=1&amp;search_id=O9hP-O7v0nC-927&amp;hilite=00314307\" target=\"_blank\">http://dictionary.oed.com/cgi/entry/00314307?query_type=word&amp;queryword=greenwash&amp;first=1&amp;max_to_show=10&amp;sort_type=alpha&amp;result_place=1&amp;search_id=O9hP-O7v0nC-927&amp;hilite=00314307</a> (12.9.2008)\n",
      "\n",
      "Termin: greenwashing\n",
      "Termini allikaviide: Center for Media and Democracy &gt; SourceWatch &gt; Greenwashing, <a href=\"http://www.sourcewatch.org/index.php?title=Greenwashing\" target=\"_blank\">http://www.sourcewatch.org/index.php?title=Greenwashing</a> (12.9.2008); \n",
      "<br>EnviroMedia Social Marketing &gt; Greenwashing Index, <a href=\"http://www.greenwashingindex.com/\" target=\"_blank\">http://www.greenwashingindex.com/</a> (12.9.2008)\n",
      "Termini kasutusnäide: <b>Greenwashing</b> was coined by suburban NY environmentalist Jay Westerveld in 1986, in an essay regarding the hotel industry's practice of placing green placards in each room, promoting reuse of guest-towels, ostensibly to \"save the environment\". Westerveld noted that, in most cases, little or no effort toward waste recycling was being implemented by these institutions, due in part to the lack of cost-cutting affected by such practice. Westerveld opined that the actual objective of this \"green campaign\" on the part of many hoteliers was, in fact, profit increase. Westerveld hence monikered this and other outwardly environmentally-conscientious acts with a greater, underlying purpose of profit increase as <b>greenwashing</b>.\n",
      "Termini kasutusnäite allikaviide: {'text': 'Wikipedia &gt; Greenwash, <a href=\"http://en.wikipedia.org/wiki/Greenwash\" target=\"_blank\">http://en.wikipedia.org/wiki/Greenwash</a> (12.11.2008)', 'metadata': {'confidentiality': 0}}\n",
      "Termini usaldusväärsus: 3\n",
      "\n",
      "Termin: green washing\n",
      "Termini usaldusväärsus: 1\n",
      "\n",
      "Termin: greenwash\n",
      "Termini allikaviide: Wikipedia &gt; Greenwash, <a href=\"http://en.wikipedia.org/wiki/Greenwash\" target=\"_blank\">http://en.wikipedia.org/wiki/Greenwash</a> (12.11.2008)\n",
      "Termini usaldusväärsus: 3\n",
      "\n",
      "Termin: green sheen\n",
      "Termini allikaviide: ---\n",
      "Termini kasutusnäide: The term <b>green sheen</b> has similarly been used to describe organizations which attempt to appear that they are adopting practices beneficial to the environment.\n",
      "Termini kasutusnäite allikaviide: {'text': 'Wikipedia &gt; Greenwash, <a href=\"http://en.wikipedia.org/wiki/Greenwash\" target=\"_blank\">http://en.wikipedia.org/wiki/Greenwash</a> (12.11.2008)', 'metadata': {'confidentiality': 0}}\n",
      "Termini usaldusväärsus: 3\n",
      "\n",
      "\n",
      "FR:\n",
      "Definitsioon: attribution abusive de qualités écologiques à un produit, à un service ou à une organisation\n",
      "Definitisiooni allikaviide: FranceTerme &gt; <a href=\"http://www.culture.fr/franceterme/result?francetermeSearchTerme=ecoblanchiment&amp;francetermeSearchDomaine=0&amp;francetermeSearchSubmit=rechercher&amp;action=search\" target=\"_blank\">Verdissement d'image (JORF du 8.9.2013)<time datetime=\"6.12.2019\"> (6.12.2019)</time></a>\n",
      "\n",
      "Termin: écoblanchiment\n",
      "Termini allikaviide: Dictionnaire Le Grand Robert de la langue française en ligne &gt; Écoblanchiment (6.12.2019)\n",
      "Termini allikaviide: Dictionnaire de français Larousse en ligne &gt; <a href=\"https://www.larousse.fr/dictionnaires/francais/écoblanchiment/10910961?q=%c3%a9coblanchiment#11044324\" target=\"_blank\">Écoblanchiment<time datetime=\"6.12.2019\"> (6.12.2019)</time></a>\n",
      "Termini usaldusväärsus: 3\n",
      "\n",
      "Termin: verdissement d'image\n",
      "Termini allikaviide: FranceTerme &gt; <a href=\"http://www.culture.fr/franceterme/result?francetermeSearchTerme=ecoblanchiment&amp;francetermeSearchDomaine=0&amp;francetermeSearchSubmit=rechercher&amp;action=search\" target=\"_blank\">Verdissement d'image (JORF du 8.9.2013)<time datetime=\"6.12.2019\"> (6.12.2019)</time></a>\n",
      "Termini usaldusväärsus: 3\n",
      "\n",
      "Termin: blanchiment écologique\n",
      "Termini allikaviide: Le Soir du 4.3.2009, article de F. Vandervelde, <a href=\"https://www.lesoir.be/art/environnement-oui-greenwashing-non_t-20090304-00M0D6.html\" target=\"_blank\">«Environnement oui, GreenWashing non»<time datetime=\"6.12.2019\"> (6.12.2019)</time></a>\n",
      "Termini usaldusväärsus: 3\n",
      "\n",
      "Termin: blanchiment vert\n",
      "Termini allikaviide: Grand Dictionnaire terminologique de l'Office québécois de la langue française &gt; <a href=\"http://www.gdt.oqlf.gouv.qc.ca/ficheOqlf.aspx?Id_Fiche=8365406\" target=\"_blank\">écoblanchiment (2010)<time datetime=\"6.12.2019\"> (6.12.2019)</time></a>\n",
      "Termini usaldusväärsus: 1\n",
      "\n",
      "Termin: greenwashing\n",
      "Termini kasutusnäide: «On parle de <i><b>greenwashing </b></i>lorsqu’une organisation utilise dans sa communication des arguments écologiques qui sont disproportionnés, vagues, partiels ou trompeurs par rapport aux actions réellement entreprises par cette organisation pour diminuer son impact environnemental. Voici plusieurs techniques de <b>greenwashing</b>, qu’on peut repérer pour éviter les pièges: [...]»\n",
      "Termini kasutusnäite allikaviide: {'text': 'Site écoconso.be, Accueil &gt; Toute l\\'info &gt; Par publication &gt; Articles &gt; 4.4.2023: <a href=\"https://www.ecoconso.be/fr/content/comment-reperer-le-greenwashing\" target=\"_blank\">Comment repérer le greenwashing?<time datetime=\"1.9.2023\"> (1.9.2023)</time></a>', 'metadata': {'confidentiality': 0}}\n",
      "Termini usaldusväärsus: 1\n",
      "\n",
      "\n",
      "FI:\n",
      "Definitsioon: se, että yritykset muokkaavat tuotteidensa ja toimintatapojensa julkisuuskuvaa valheellisesti yrittäen saada ne näyttämään ympäristöystävällisiltä, esim. naamioimalla kustannusleikkaukset luonnonvarojen käytön vähentämiseksi\n",
      "Definitisiooni allikaviide: <i>Let's speak sustainable construction, Multilingual Glossary </i> \n",
      "<br> Joint publication of the European Economic and Social Committee, the Architects' Council of Europe and the European Concrete Platform, 2011\n",
      "\n",
      "Termin: viherpesu\n",
      "Termini allikaviide: <i>Let's speak sustainable construction, Multilingual Glossary </i> \n",
      "<br> Joint publication of the European Economic and Social Committee, the Architects' Council of Europe and the European Concrete Platform, 2011\n",
      "Termini usaldusväärsus: 3\n",
      "\n",
      "\n"
     ]
    }
   ],
   "source": [
    "query = 'greenwash'\n",
    "source_language = 'en'\n",
    "target_languages = ['en', 'fr', 'fi']\n",
    "\n",
    "helpers.print_single_search_results(query, source_language, target_languages)"
   ]
  }
 ],
 "metadata": {
  "kernelspec": {
   "display_name": "Python 3",
   "language": "python",
   "name": "python3"
  },
  "language_info": {
   "codemirror_mode": {
    "name": "ipython",
    "version": 3
   },
   "file_extension": ".py",
   "mimetype": "text/x-python",
   "name": "python",
   "nbconvert_exporter": "python",
   "pygments_lexer": "ipython3",
   "version": "3.8.0"
  }
 },
 "nbformat": 4,
 "nbformat_minor": 2
}
