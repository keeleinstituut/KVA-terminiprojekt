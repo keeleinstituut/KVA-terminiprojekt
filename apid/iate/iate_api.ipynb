{
 "cells": [
  {
   "cell_type": "code",
   "execution_count": 1,
   "metadata": {},
   "outputs": [],
   "source": [
    "import auth_requests\n",
    "import search_requests\n",
    "import helpers\n",
    "import json"
   ]
  },
  {
   "cell_type": "markdown",
   "metadata": {},
   "source": [
    "Termini järgi otsimine. Parameetriteks otsisõna, otsisõna keel, tulemuseks kuvatavate terminite keel."
   ]
  },
  {
   "cell_type": "code",
   "execution_count": 2,
   "metadata": {},
   "outputs": [
    {
     "name": "stdout",
     "output_type": "stream",
     "text": [
      "Otsing: greenwash\n",
      "\n",
      "Definitsioonid\n",
      "\n",
      "en: disinformation disseminated by an organisation, etc., so as to present an environmentally responsible public image; or a public image of environmental responsibility promulgated by or for an organisation, etc., but perceived as being unfounded or intentionally misleading\n",
      "fr: attribution abusive de qualités écologiques à un produit, à un service ou à une organisation\n",
      "de: Versuch von Unternehmen, durch Marketing- und PR-Maßnahmen ein Image als umweltfreundlich handelndes Unternehmen zu erlangen, ohne tatsächlich zum Umweltschutz beizutragen\n"
     ]
    }
   ],
   "source": [
    "query = 'greenwash'\n",
    "source_language = 'en'\n",
    "target_languages = ['fr', 'de']\n",
    "\n",
    "helpers.print_single_search_results(query, source_language, target_languages)"
   ]
  }
 ],
 "metadata": {
  "kernelspec": {
   "display_name": "Python 3",
   "language": "python",
   "name": "python3"
  },
  "language_info": {
   "codemirror_mode": {
    "name": "ipython",
    "version": 3
   },
   "file_extension": ".py",
   "mimetype": "text/x-python",
   "name": "python",
   "nbconvert_exporter": "python",
   "pygments_lexer": "ipython3",
   "version": "3.8.0"
  }
 },
 "nbformat": 4,
 "nbformat_minor": 2
}
