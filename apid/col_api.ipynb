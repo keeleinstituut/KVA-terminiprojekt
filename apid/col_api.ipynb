{
 "cells": [
  {
   "cell_type": "markdown",
   "metadata": {},
   "source": [
    "## Collins API näidispäringud"
   ]
  },
  {
   "cell_type": "code",
   "execution_count": null,
   "metadata": {},
   "outputs": [],
   "source": [
    "from collins.entries_requests import get_dictionaries, set_headers, get_search_results, get_did_you_mean, get_first_matching_entry, get_entry_by_entry_url\n",
    "from collins.helpers import print_dictionary_titles, print_search_results, print_suggestions, print_entry_data\n",
    "\n",
    "headers = set_headers()"
   ]
  },
  {
   "cell_type": "markdown",
   "metadata": {},
   "source": [
    "### Saadavalolevad sõnaraamatud"
   ]
  },
  {
   "cell_type": "code",
   "execution_count": null,
   "metadata": {},
   "outputs": [],
   "source": [
    "dictionaries = get_dictionaries(headers)\n",
    "\n",
    "print_dictionary_titles(dictionaries)"
   ]
  },
  {
   "cell_type": "markdown",
   "metadata": {},
   "source": [
    "### Otsing"
   ]
  },
  {
   "cell_type": "code",
   "execution_count": null,
   "metadata": {},
   "outputs": [],
   "source": [
    "dict_code = 'english'\n",
    "search_word = 'psychological warfare'\n",
    "page_size = '100'\n",
    "page_index = '1'\n",
    "\n",
    "search_results = get_search_results(dict_code, search_word, page_size, page_index)\n",
    "print(search_results)\n",
    "print_search_results(search_results)"
   ]
  },
  {
   "cell_type": "markdown",
   "metadata": {},
   "source": [
    "### Get an entry"
   ]
  },
  {
   "cell_type": "code",
   "execution_count": null,
   "metadata": {},
   "outputs": [],
   "source": [
    "if 'results' in search_results:\n",
    "    for r in search_results['results']:\n",
    "        url = r['entryUrl'] + '?format=xml'\n",
    "        result_data = get_entry_by_entry_url(url)\n",
    "        print_entry_data(result_data)\n",
    "        print('\\n')"
   ]
  },
  {
   "cell_type": "markdown",
   "metadata": {},
   "source": [
    "### Did you mean"
   ]
  },
  {
   "cell_type": "code",
   "execution_count": null,
   "metadata": {},
   "outputs": [],
   "source": [
    "entry_number = 25\n",
    "results = get_did_you_mean(dict_code, search_word, entry_number)\n",
    "\n",
    "print_suggestions(results)"
   ]
  },
  {
   "cell_type": "markdown",
   "metadata": {},
   "source": [
    "### Get first matching entry"
   ]
  },
  {
   "cell_type": "code",
   "execution_count": null,
   "metadata": {},
   "outputs": [],
   "source": [
    "results = get_first_matching_entry(dict_code, search_word)\n",
    "\n",
    "print_entry_data(results)"
   ]
  }
 ],
 "metadata": {
  "kernelspec": {
   "display_name": "Python 3",
   "language": "python",
   "name": "python3"
  },
  "language_info": {
   "codemirror_mode": {
    "name": "ipython",
    "version": 3
   },
   "file_extension": ".py",
   "mimetype": "text/x-python",
   "name": "python",
   "nbconvert_exporter": "python",
   "pygments_lexer": "ipython3",
   "version": "3.8.0"
  }
 },
 "nbformat": 4,
 "nbformat_minor": 2
}
