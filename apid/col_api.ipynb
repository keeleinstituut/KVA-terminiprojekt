{
 "cells": [
  {
   "cell_type": "markdown",
   "metadata": {},
   "source": [
    "## Collins API näidispäringud"
   ]
  },
  {
   "cell_type": "code",
   "execution_count": 1,
   "metadata": {},
   "outputs": [],
   "source": [
    "from collins.entries_requests import get_dictionaries, set_headers, get_search_results, get_did_you_mean, get_first_matching_entry, get_entry_by_entry_url\n",
    "from collins.helpers import print_dictionary_titles, print_search_results, print_suggestions, print_entry_data\n",
    "\n",
    "headers = set_headers()"
   ]
  },
  {
   "cell_type": "markdown",
   "metadata": {},
   "source": [
    "### Saadavalolevad sõnaraamatud"
   ]
  },
  {
   "cell_type": "code",
   "execution_count": 2,
   "metadata": {},
   "outputs": [
    {
     "name": "stdout",
     "output_type": "stream",
     "text": [
      "Collins English Dictionary\n",
      "Collins English-Spanish Dictionary\n",
      "Collins Spanish-English Dictionary\n",
      "Collins English-French Dictionary\n",
      "Collins French-English Dictionary\n",
      "Collins English-German Dictionary\n",
      "Collins German-English Dictionary\n",
      "Collins English-Italian Dictionary\n",
      "Collins Italian-English Dictionary\n",
      "Collins Cobuild Advanced British\n",
      "Collins Cobuild Advanced American\n"
     ]
    }
   ],
   "source": [
    "dictionaries = get_dictionaries(headers)\n",
    "\n",
    "print_dictionary_titles(dictionaries)"
   ]
  },
  {
   "cell_type": "markdown",
   "metadata": {},
   "source": [
    "### Otsing"
   ]
  },
  {
   "cell_type": "code",
   "execution_count": 3,
   "metadata": {},
   "outputs": [
    {
     "name": "stdout",
     "output_type": "stream",
     "text": [
      "{'entryLabel': 'artillery', 'entryUrl': 'http://api.collinsdictionary.com/api/v1/dictionaries/english/entries/artillery_1', 'entryId': 'artillery_1'}\n",
      "{'entryLabel': 'artillery plant', 'entryUrl': 'http://api.collinsdictionary.com/api/v1/dictionaries/english/entries/artillery-plant_1', 'entryId': 'artillery-plant_1'}\n",
      "{'entryLabel': 'field artillery', 'entryUrl': 'http://api.collinsdictionary.com/api/v1/dictionaries/english/entries/field-artillery_1', 'entryId': 'field-artillery_1'}\n",
      "{'entryLabel': 'horse artillery', 'entryUrl': 'http://api.collinsdictionary.com/api/v1/dictionaries/english/entries/horse-artillery_1', 'entryId': 'horse-artillery_1'}\n"
     ]
    }
   ],
   "source": [
    "dict_code = 'english'\n",
    "search_word = 'artillery'\n",
    "page_size = '100'\n",
    "page_index = '1'\n",
    "\n",
    "search_results = get_search_results(headers, dict_code, search_word, page_size, page_index)\n",
    "\n",
    "print_search_results(search_results)"
   ]
  },
  {
   "cell_type": "markdown",
   "metadata": {},
   "source": [
    "### Get an entry"
   ]
  },
  {
   "cell_type": "code",
   "execution_count": 9,
   "metadata": {},
   "outputs": [
    {
     "name": "stdout",
     "output_type": "stream",
     "text": [
      "artillery\n",
      "1. guns, cannon, howitzers, mortars, etc, of calibre greater than 20 mm\n",
      "2. troops or military units specializing in using such guns\n",
      "3. the science dealing with the use of guns\n",
      "4. devices for discharging heavy missiles, such as catapults or slings\n",
      "\n",
      "\n",
      "artillery plant\n",
      "1. any of various tropical urticaceous plants of the genus \n",
      "\n",
      "\n",
      "field artillery\n",
      "1. artillery capable of deployment in support of front-line troops, due mainly to its mobility\n",
      "\n",
      "\n",
      "horse artillery\n",
      "1. cavalry equipped with artillery\n",
      "\n",
      "\n"
     ]
    }
   ],
   "source": [
    "if 'results' in search_results:\n",
    "    for r in search_results['results']:\n",
    "        url = r['entryUrl'] + '?format=xml'\n",
    "        result_data = get_entry_by_entry_url(url, headers)\n",
    "        print_entry_data(result_data)\n",
    "        print('\\n')"
   ]
  },
  {
   "cell_type": "markdown",
   "metadata": {},
   "source": [
    "### Did you mean"
   ]
  },
  {
   "cell_type": "code",
   "execution_count": 5,
   "metadata": {},
   "outputs": [
    {
     "name": "stdout",
     "output_type": "stream",
     "text": [
      "grillery\n",
      "arpillera\n",
      "raillery\n",
      "artillerymen\n",
      "artilleryman\n",
      "artillerist\n",
      "art gallery\n",
      "distillery\n",
      "articled\n",
      "tiller\n"
     ]
    }
   ],
   "source": [
    "entry_number = 25\n",
    "results = get_did_you_mean(headers, dict_code, search_word, entry_number)\n",
    "\n",
    "print_suggestions(results)"
   ]
  },
  {
   "cell_type": "markdown",
   "metadata": {},
   "source": [
    "### Get first matching entry"
   ]
  },
  {
   "cell_type": "code",
   "execution_count": 6,
   "metadata": {},
   "outputs": [
    {
     "name": "stdout",
     "output_type": "stream",
     "text": [
      "artillery\n",
      "1. guns, cannon, howitzers, mortars, etc, of calibre greater than 20 mm\n",
      "2. troops or military units specializing in using such guns\n",
      "3. the science dealing with the use of guns\n",
      "4. devices for discharging heavy missiles, such as catapults or slings\n"
     ]
    }
   ],
   "source": [
    "results = get_first_matching_entry(headers, dict_code, search_word)\n",
    "\n",
    "print_entry_data(results)"
   ]
  }
 ],
 "metadata": {
  "kernelspec": {
   "display_name": "Python 3",
   "language": "python",
   "name": "python3"
  },
  "language_info": {
   "codemirror_mode": {
    "name": "ipython",
    "version": 3
   },
   "file_extension": ".py",
   "mimetype": "text/x-python",
   "name": "python",
   "nbconvert_exporter": "python",
   "pygments_lexer": "ipython3",
   "version": "3.8.0"
  }
 },
 "nbformat": 4,
 "nbformat_minor": 2
}
