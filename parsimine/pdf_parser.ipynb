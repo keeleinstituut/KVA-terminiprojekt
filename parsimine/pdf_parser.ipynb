{
 "cells": [
  {
   "cell_type": "markdown",
   "metadata": {},
   "source": [
    "Märkmik ingliskeelsete PDF-ide parsimiseks teegi PyMUPDF abil ning sisuliselt sidusate lõikude eraldamiseks vektorandmebaasis säilitamise eesmärgil.\n",
    "\n",
    "Sammud:\n",
    "* Metaandmete säilitamine?\n",
    "* Päiste eemaldamine (reguluaaravaldisega vs koordinaatidega vms?)\n",
    "* Tabelite leidmine tekstist\n",
    "* Tabelite eemaldamine tekstist\n",
    "* Tükeldamine\n",
    "\n",
    "Kas footnotes'id saab eristada muust tekstist (tabeli määratluse kaudu??)\n",
    "Kui lehekülg ei lõpe kirjavahemärgiga, siis liita tekstid kokku?\n",
    "\n"
   ]
  },
  {
   "cell_type": "code",
   "execution_count": null,
   "metadata": {},
   "outputs": [],
   "source": [
    "import fitz\n",
    "import os\n",
    "from collections import defaultdict\n",
    "\n",
    "from parser_utils import get_all_tables, print_n_pages, calculate_content_box, is_inside_bbox"
   ]
  },
  {
   "cell_type": "code",
   "execution_count": null,
   "metadata": {},
   "outputs": [],
   "source": [
    "# Muudetavad parameetrid\n",
    "\n",
    "fdir = 'jp_data'\n",
    "fname = os.listdir(fdir)[0]\n",
    "\n",
    "table_extraction_strategy = 'lines_strict' # Strateegiad kirjeldatud: https://pymupdf.readthedocs.io/en/latest/page.html#Page.find_tables, saab valida failipõhiselt sobiva strateegia.\n",
    "horizontal_sorting = True # Määrata False, kui tegemist on veergudepõhise dokumendiga.\n",
    "\n",
    "header_height = 50\n",
    "footer_height = 50"
   ]
  },
  {
   "cell_type": "markdown",
   "metadata": {},
   "source": [
    "---\n",
    "10 lk või bloki kuvamine näitena. Saab välja võtta päiste ja jaluste koordinaadid ning need muudetavatesse parameetritesse kopeerida, et saaks neid lõike ignoreerida.\n",
    "Koordinaadid on blocki 4 esimest elementi."
   ]
  },
  {
   "cell_type": "code",
   "execution_count": null,
   "metadata": {},
   "outputs": [],
   "source": [
    "print_n_pages(fdir, fname, display='blocks')"
   ]
  },
  {
   "cell_type": "code",
   "execution_count": null,
   "metadata": {},
   "outputs": [],
   "source": [
    "print_n_pages(fdir, fname, n = 10, display='text')"
   ]
  },
  {
   "cell_type": "markdown",
   "metadata": {},
   "source": [
    "---\n",
    "### Teksti ja tabelite eraldamine\n",
    "\n",
    "Tabelite eemaldamine tekstist. Kogu teksti väljatrükk"
   ]
  },
  {
   "cell_type": "code",
   "execution_count": null,
   "metadata": {},
   "outputs": [],
   "source": [
    "document_path = os.path.join(fdir, fname)\n",
    "\n",
    "with fitz.open(document_path) as doc:\n",
    "\n",
    "    document_tables = get_all_tables(doc, header_height, footer_height, table_extraction_strategy=table_extraction_strategy) # Tabeleid eraldatakse päise ja jaluseta piirkonnast, et päise eraldusjooned ei tekitaks liigseid tabeleid\n",
    "\n",
    "    non_table_blocks = defaultdict(list)\n",
    "\n",
    "    for page_no, page in enumerate(doc):\n",
    "        \n",
    "        # Teksti eraldamine päist ja jalust välja jättes\n",
    "        text_blocks = page.get_text('blocks', sort=horizontal_sorting, clip=calculate_content_box(page, header_height, footer_height))\n",
    "\n",
    "        # Teksti lisamine non_table_blocks muutujasse, ei lisata teksti, mis kuulub tabelisse\n",
    "        for text_block in text_blocks:\n",
    "            block_is_table_data = False\n",
    "            for table in document_tables[page_no]:\n",
    "                if is_inside_bbox(text_block, table.attrs['bbox']):\n",
    "                    block_is_table_data = True\n",
    "                    break\n",
    "            if not block_is_table_data:\n",
    "                non_table_blocks[page_no].append(text_block[4])\n",
    "\n",
    "    # Puhastatud teksti koostamine\n",
    "    cleaned_text = \"\\n\".join(block for blocks in non_table_blocks.values() for block in blocks)\n",
    "    print(cleaned_text)"
   ]
  },
  {
   "cell_type": "markdown",
   "metadata": {},
   "source": [
    "2. Tabelite väljatrükk"
   ]
  },
  {
   "cell_type": "code",
   "execution_count": null,
   "metadata": {},
   "outputs": [],
   "source": [
    "i = 20\n",
    "\n",
    "for page, tables in document_tables.items():\n",
    "    for table in tables:\n",
    "        print('Page: {}'.format(table.attrs['page']))\n",
    "        display(table)\n",
    "    i -= 1\n",
    "    if i == 0:\n",
    "        break"
   ]
  },
  {
   "cell_type": "code",
   "execution_count": null,
   "metadata": {},
   "outputs": [],
   "source": []
  }
 ],
 "metadata": {
  "kernelspec": {
   "display_name": "Python 3",
   "language": "python",
   "name": "python3"
  },
  "language_info": {
   "codemirror_mode": {
    "name": "ipython",
    "version": 3
   },
   "file_extension": ".py",
   "mimetype": "text/x-python",
   "name": "python",
   "nbconvert_exporter": "python",
   "pygments_lexer": "ipython3",
   "version": "3.11.7"
  }
 },
 "nbformat": 4,
 "nbformat_minor": 2
}
