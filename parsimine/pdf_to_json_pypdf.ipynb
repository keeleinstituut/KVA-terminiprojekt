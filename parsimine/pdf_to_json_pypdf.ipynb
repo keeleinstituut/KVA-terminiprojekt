{
 "cells": [
  {
   "cell_type": "code",
   "execution_count": null,
   "metadata": {},
   "outputs": [],
   "source": [
    "import json\n",
    "import os\n",
    "from pprint import pprint\n",
    "\n",
    "from pypdf import PdfReader"
   ]
  },
  {
   "cell_type": "code",
   "execution_count": null,
   "metadata": {},
   "outputs": [],
   "source": [
    "# Muudetavad parameetrid\n",
    "\n",
    "fdir = 'C:/Users/sandra.eiche/Documents/kood/parser_comparison/kva_data/'\n",
    "fname = 'jp3_01.pdf' #os.listdir(fdir)[3]\n",
    "\n",
    "output_fdir = 'C:\\\\Users\\\\sandra.eiche\\\\OneDrive - Eesti Keele Instituut\\\\Documents\\\\KVA\\\\kva_parsed_jsons_pypdf'\n",
    "output_fname = fname.rsplit('.', 1)[0] + '_pypdf_parsing' + '.json'\n",
    "\n",
    "# Viidete eraldamiseks\n",
    "footnote_regex =  r'^\\d+\\s+(.*)'\n",
    "footnote_group = 1\n",
    "\n",
    "# Mõistete eraldamiseks\n",
    "block_based_extraction = {\n",
    "    'pages' : []}\n",
    "\n",
    "custom_regex_extraction = {\n",
    "        'pages': [],\n",
    "        'regular_expression': r\"(\\n\\s*\\n|^)((.|\\n)*?)(?=\\n\\s*\\n)\",\n",
    "        'regex_group': 1\n",
    "}"
   ]
  },
  {
   "cell_type": "code",
   "execution_count": null,
   "metadata": {},
   "outputs": [],
   "source": [
    "reader = PdfReader(os.path.join(fdir, fname))\n",
    "\n",
    "try:\n",
    "    meta = reader.metadata\n",
    "    print(fname)\n",
    "    pprint(meta)\n",
    "except Exception as e:\n",
    "    print('Error: ', e)"
   ]
  },
  {
   "cell_type": "code",
   "execution_count": null,
   "metadata": {},
   "outputs": [],
   "source": [
    "metadata = {\n",
    "    'filename' : fname,\n",
    "    'publication' : '',\n",
    "    'publication_year' : 2017,\n",
    "    'title': 'JP 3-01, Countering Air and Missile Threats',\n",
    "    'author': '',\n",
    "    'languages': ['en'],\n",
    "    'field_keywords' : [],\n",
    "    'header_height': 0,\n",
    "    'footer_height': 0,\n",
    "    'custom_regex': custom_regex_extraction\n",
    "}"
   ]
  },
  {
   "cell_type": "markdown",
   "metadata": {},
   "source": [
    "---\n",
    "### Parsimine"
   ]
  },
  {
   "cell_type": "code",
   "execution_count": null,
   "metadata": {},
   "outputs": [],
   "source": [
    "content_text_data = []\n",
    "table_data = json.dumps([])\n",
    "block_data = json.dumps([])\n",
    "regex_data = json.dumps([])\n",
    "footnote_data = json.dumps([])\n",
    "term_data = json.dumps([])\n",
    "\n",
    "for i, page_data in enumerate(zip(reader.pages, reader.page_labels)):\n",
    "\n",
    "    page, page_label = page_data\n",
    "\n",
    "    # Koguteksti salvestamine json-ina\n",
    "    full_text_page_json = [{\n",
    "        \"page_number\": i + 1,  # Page numbers are zero-based in PyMuPDF\n",
    "        \"text\": page.extract_text()\n",
    "        }]\n",
    "    \n",
    "    content_text_data.extend(full_text_page_json)\n",
    "\n"
   ]
  },
  {
   "cell_type": "code",
   "execution_count": null,
   "metadata": {},
   "outputs": [],
   "source": [
    "content_dict = {\n",
    "        'table_data': json.loads(table_data),\n",
    "        'term_data': json.loads(term_data),\n",
    "        'footnote_data': json.loads(footnote_data),\n",
    "        'content_text_data': content_text_data,\n",
    "        'term_data': json.loads(term_data)\n",
    "    }"
   ]
  },
  {
   "cell_type": "code",
   "execution_count": null,
   "metadata": {},
   "outputs": [],
   "source": [
    "content_dict"
   ]
  },
  {
   "cell_type": "code",
   "execution_count": null,
   "metadata": {},
   "outputs": [],
   "source": [
    "print('Saving to', os.path.join(output_fdir, output_fname))\n",
    "      \n",
    "with open(os.path.join(output_fdir, output_fname), 'w') as fout:\n",
    "          \n",
    "    content_dict = {\n",
    "        'table_data': json.loads(table_data),\n",
    "        'term_data': json.loads(term_data),\n",
    "        'footnote_data': json.loads(footnote_data),\n",
    "        'content_text_data': content_text_data,\n",
    "        'term_data': json.loads(term_data)\n",
    "    }\n",
    "          \n",
    "    metadata.update(content_dict)\n",
    "\n",
    "    fout.write(json.dumps(metadata))\n",
    "\n",
    "    "
   ]
  },
  {
   "cell_type": "code",
   "execution_count": null,
   "metadata": {},
   "outputs": [],
   "source": [
    "json.dumps(metadata)"
   ]
  },
  {
   "cell_type": "code",
   "execution_count": null,
   "metadata": {},
   "outputs": [],
   "source": []
  }
 ],
 "metadata": {
  "kernelspec": {
   "display_name": "Python 3",
   "language": "python",
   "name": "python3"
  },
  "language_info": {
   "codemirror_mode": {
    "name": "ipython",
    "version": 3
   },
   "file_extension": ".py",
   "mimetype": "text/x-python",
   "name": "python",
   "nbconvert_exporter": "python",
   "pygments_lexer": "ipython3",
   "version": "3.11.7"
  }
 },
 "nbformat": 4,
 "nbformat_minor": 2
}
