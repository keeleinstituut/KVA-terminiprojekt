{
 "cells": [
  {
   "cell_type": "code",
   "execution_count": null,
   "metadata": {},
   "outputs": [],
   "source": [
    "import fitz\n",
    "import os\n",
    "from collections import defaultdict\n",
    "import json\n",
    "\n",
    "from term_extractors import RegexBlockExtractor, BlockExtractor\n",
    "from table_extractor import TableExtractor\n",
    "from footnote_extractor import FootnoteExtractor\n",
    "\n",
    "from parser_utils import print_n_pages, join_jsons, is_inside_bbox, calculate_content_box"
   ]
  },
  {
   "cell_type": "code",
   "execution_count": null,
   "metadata": {},
   "outputs": [],
   "source": [
    "# Muudetavad parameetrid\n",
    "\n",
    "fdir = 'C:/Users/sandra.eiche/Documents/kood/parser_comparison/varia_data/'\n",
    "fname = os.listdir(fdir)[2]\n",
    "\n",
    "output_fdir = 'C:\\\\Users\\\\sandra.eiche\\\\OneDrive - Eesti Keele Instituut\\\\Documents\\\\KVA\\\\kva_parsed_jsons'\n",
    "output_fname = fname.rsplit('.', 1)[0] + '.json'\n",
    "\n",
    "# Tabelite eraldamiseks\n",
    "table_extraction_strategy = 'lines_strict' # Strateegiad kirjeldatud: https://pymupdf.readthedocs.io/en/latest/page.html#Page.find_tables, saab valida failipõhiselt sobiva strateegia.\n",
    "horizontal_sorting = False # Määrata False, kui tegemist on veergudepõhise dokumendiga.\n",
    "\n",
    "# Päiste ja jaluste eemaldamiseks\n",
    "header_height = 60\n",
    "footer_height = 50\n",
    "\n",
    "# Viidete eraldamiseks\n",
    "footnote_regex =  r'^\\d+\\s+(.*)'\n",
    "footnote_group = 1\n",
    "\n",
    "# Mõistete eraldamiseks\n",
    "block_based_extraction = {\n",
    "    'pages' : []}\n",
    "\n",
    "custom_regex_extraction = {\n",
    "        'pages': [(22, 430)],\n",
    "        'regular_expression': r\"(\\n\\s*\\n|^)((.|\\n)*?)(?=\\n\\s*\\n)\",\n",
    "        'regex_group': 1\n",
    "}"
   ]
  },
  {
   "cell_type": "code",
   "execution_count": null,
   "metadata": {},
   "outputs": [],
   "source": [
    "from pprint import pprint\n",
    "\n",
    "with fitz.open(os.path.join(fdir, fname)) as doc:\n",
    "    print(fname)\n",
    "    pprint(doc.metadata)"
   ]
  },
  {
   "cell_type": "code",
   "execution_count": null,
   "metadata": {},
   "outputs": [],
   "source": [
    "metadata = {\n",
    "    'filename' : fname,\n",
    "    'publication' : '',\n",
    "    'publication_year' : 2013,\n",
    "    'title': '',\n",
    "    'author': '',\n",
    "    'languages': ['en', 'fr'],\n",
    "    'field_keywords' : [],\n",
    "    'header_height': header_height,\n",
    "    'footer_height': footer_height,\n",
    "    'table_extraction_strategy': table_extraction_strategy,\n",
    "    'horizontal_sorting': horizontal_sorting,\n",
    "    'footnote_regex': footnote_regex,\n",
    "    'footnote_group': footnote_group,\n",
    "    'custom_regex': custom_regex_extraction\n",
    "}"
   ]
  },
  {
   "cell_type": "markdown",
   "metadata": {},
   "source": [
    "---\n",
    "10 lk või bloki kuvamine näitena. Saab välja võtta päiste ja jaluste koordinaadid ning need muudetavatesse parameetritesse kopeerida, et saaks neid lõike ignoreerida.\n",
    "Koordinaadid on blocki 4 esimest elementi."
   ]
  },
  {
   "cell_type": "code",
   "execution_count": null,
   "metadata": {},
   "outputs": [],
   "source": [
    "print_n_pages(fdir, fname, display='blocks', horizontal_sorting=horizontal_sorting)"
   ]
  },
  {
   "cell_type": "code",
   "execution_count": null,
   "metadata": {},
   "outputs": [],
   "source": [
    "print_n_pages(fdir, fname, display='text', horizontal_sorting=horizontal_sorting)"
   ]
  },
  {
   "cell_type": "markdown",
   "metadata": {},
   "source": [
    "---\n",
    "### Ekstraheerijate initsialiseerimine"
   ]
  },
  {
   "cell_type": "code",
   "execution_count": null,
   "metadata": {},
   "outputs": [],
   "source": [
    "table_extractor = TableExtractor(table_extraction_strategy=table_extraction_strategy)\n",
    "block_extractor = BlockExtractor()\n",
    "regex_extractor = RegexBlockExtractor(regex_pattern=custom_regex_extraction['regular_expression'], \n",
    "                                      regex_group=custom_regex_extraction['regex_group'])\n",
    "\n",
    "footnote_extractor = FootnoteExtractor(footnote_pattern=footnote_regex, footnote_group=footnote_group)"
   ]
  },
  {
   "cell_type": "code",
   "execution_count": null,
   "metadata": {},
   "outputs": [],
   "source": [
    "document_path = os.path.join(fdir, fname)\n",
    "\n",
    "with fitz.open(document_path) as doc:\n",
    "    table_data = table_extractor.extract_tables_from_doc(doc, header_height=header_height, footer_height=footer_height)\n",
    "    block_data = block_extractor.extract_text_by_page(doc, block_based_extraction['pages'], header_height=header_height, footer_height=footer_height)\n",
    "    regex_data = regex_extractor.extract_text_by_page(doc, custom_regex_extraction['pages'], header_height=header_height, footer_height=footer_height)\n",
    "    footnote_data = footnote_extractor.extract_footnotes_from_doc(doc, header_height=header_height, footer_height=footer_height)\n",
    "    \n",
    "    term_data = join_jsons([block_data, regex_data])"
   ]
  },
  {
   "cell_type": "code",
   "execution_count": null,
   "metadata": {},
   "outputs": [],
   "source": [
    "def is_term_page(page_no, term_data):\n",
    "    \"\"\"Check if the given page number is a term page.\"\"\"\n",
    "    for term_page in json.loads(term_data):\n",
    "        if term_page['page_number'] == page_no:\n",
    "            return True\n",
    "    return False"
   ]
  },
  {
   "cell_type": "code",
   "execution_count": null,
   "metadata": {},
   "outputs": [],
   "source": [
    "document_path = os.path.join(fdir, fname)\n",
    "\n",
    "with fitz.open(document_path) as doc:\n",
    "    non_table_blocks = defaultdict(list)\n",
    "\n",
    "    content_text_data = []\n",
    "\n",
    "    for page_no, page in enumerate(doc, 1):\n",
    "        page_blocks = []\n",
    "\n",
    "        if is_term_page(page_no, term_data):\n",
    "                continue\n",
    "        \n",
    "        # Teksti eraldamine päist/jalust välja jättes\n",
    "        text_blocks = page.get_text('blocks', sort=horizontal_sorting, clip=calculate_content_box(page, header_height, footer_height))\n",
    "\n",
    "\n",
    "        for text_block in text_blocks:\n",
    "            block_is_table_data = False\n",
    "            block_is_footnote_data = False\n",
    "\n",
    "            # Tabelite väljajätt\n",
    "            for table_page in json.loads(table_data):\n",
    "                if table_page['page_number'] == page_no:\n",
    "                    for table_box in table_page['bboxes']:\n",
    "                        if is_inside_bbox(text_block, table_box):\n",
    "                                block_is_table_data = True\n",
    "                                break\n",
    "                        if block_is_table_data:\n",
    "                            break\n",
    "\n",
    "            # Joonealuste viidete väljajätt\n",
    "            for footnote_page in json.loads(footnote_data):\n",
    "                if footnote_page['page_number'] == page_no:\n",
    "                    for footnote_box in footnote_page['bboxes']:\n",
    "                        if is_inside_bbox(text_block, footnote_box):\n",
    "                                block_is_footnote_data = True\n",
    "                                break\n",
    "                        if block_is_footnote_data:\n",
    "                            break\n",
    "\n",
    "            if not block_is_table_data and not block_is_footnote_data:\n",
    "                 page_blocks.append(text_block[4])\n",
    "\n",
    "        # Koguteksti salvestamine json-ina\n",
    "        full_text_page_json = [{\n",
    "            \"page_number\": page.number + 1,  # Page numbers are zero-based in PyMuPDF\n",
    "            \"text\": '\\n'.join(page_blocks)\n",
    "            }]\n",
    "        \n",
    "        content_text_data.extend(full_text_page_json)"
   ]
  },
  {
   "cell_type": "code",
   "execution_count": null,
   "metadata": {},
   "outputs": [],
   "source": [
    "print('Saving to', os.path.join(output_fdir, output_fname))\n",
    "      \n",
    "with open(os.path.join(output_fdir, output_fname), 'w') as fout:\n",
    "          \n",
    "    content_dict = {\n",
    "        'table_data': json.loads(table_data),\n",
    "        'term_data': json.loads(term_data),\n",
    "        'footnote_data': json.loads(footnote_data),\n",
    "        'content_text_data': content_text_data,\n",
    "        'term_data': json.loads(term_data)\n",
    "    }\n",
    "          \n",
    "    metadata.update(content_dict)\n",
    "\n",
    "    fout.write(json.dumps(metadata))\n",
    "\n",
    "    "
   ]
  },
  {
   "cell_type": "code",
   "execution_count": null,
   "metadata": {},
   "outputs": [],
   "source": [
    "json.dumps(metadata)"
   ]
  }
 ],
 "metadata": {
  "kernelspec": {
   "display_name": "Python 3",
   "language": "python",
   "name": "python3"
  },
  "language_info": {
   "codemirror_mode": {
    "name": "ipython",
    "version": 3
   },
   "file_extension": ".py",
   "mimetype": "text/x-python",
   "name": "python",
   "nbconvert_exporter": "python",
   "pygments_lexer": "ipython3",
   "version": "3.11.7"
  }
 },
 "nbformat": 4,
 "nbformat_minor": 2
}
