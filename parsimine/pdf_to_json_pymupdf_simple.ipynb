{
 "cells": [
  {
   "cell_type": "code",
   "execution_count": null,
   "metadata": {},
   "outputs": [],
   "source": [
    "import json\n",
    "import os\n",
    "from pprint import pprint\n",
    "\n",
    "import fitz\n",
    "from parser_utils import reformat_text"
   ]
  },
  {
   "cell_type": "code",
   "execution_count": null,
   "metadata": {},
   "outputs": [],
   "source": [
    "# Fill in parameters\n",
    "\n",
    "fdir = 'C:/Users/sandra.eiche/Documents/kood/parser_comparison/kva_data/'\n",
    "fname = 'Operational_Terms_And_Graphics-2l90n7x.pdf' #os.listdir(fdir)[3]\n",
    "\n",
    "output_fdir = 'C:\\\\Users\\\\sandra.eiche\\\\OneDrive - Eesti Keele Instituut\\\\Documents\\\\KVA\\\\kva_parsed_jsons_pymupdf_simple'\n",
    "output_fname = fname.rsplit('.', 1)[0] + '_pymupdf_simple' + '.json'\n",
    "\n",
    "#  Ignore following, necessary for the code to function: \n",
    "footnote_regex =  r'^\\d+\\s+(.*)'\n",
    "footnote_group = 1\n",
    "\n",
    "block_based_extraction = {\n",
    "    'pages' : []}\n",
    "\n",
    "custom_regex_extraction = {\n",
    "        'pages': [],\n",
    "        'regular_expression': r\"(\\n\\s*\\n|^)((.|\\n)*?)(?=\\n\\s*\\n)\",\n",
    "        'regex_group': 1\n",
    "}"
   ]
  },
  {
   "cell_type": "markdown",
   "metadata": {},
   "source": [
    "Printing file metadata, might be helpful for filling in metadata that will be uploaded to database. "
   ]
  },
  {
   "cell_type": "code",
   "execution_count": null,
   "metadata": {},
   "outputs": [],
   "source": [
    "from pprint import pprint\n",
    "\n",
    "with fitz.open(os.path.join(fdir, fname)) as doc:\n",
    "    print(fname)\n",
    "    pprint(doc.metadata)"
   ]
  },
  {
   "cell_type": "code",
   "execution_count": null,
   "metadata": {},
   "outputs": [],
   "source": [
    "metadata = {\n",
    "    'filename' : fname,\n",
    "    \"publication\": \"\",\n",
    "    \"publication_year\": 1997,\n",
    "    \"title\": \"FM 101-5-1 - OPERATIONAL TERMS AND GRAPHICS\",\n",
    "    \"author\": \"\",\n",
    "    \"languages\": [\n",
    "        \"en\"\n",
    "    ],\n",
    "    \"field_keywords\": [],\n",
    "    'header_height': 0,\n",
    "    'footer_height': 0,\n",
    "    'custom_regex': custom_regex_extraction\n",
    "}"
   ]
  },
  {
   "cell_type": "markdown",
   "metadata": {},
   "source": [
    "---\n",
    "### Parsing"
   ]
  },
  {
   "cell_type": "code",
   "execution_count": null,
   "metadata": {},
   "outputs": [],
   "source": [
    "\n",
    "content_text_data = []\n",
    "\n",
    "# Initializing dummy variables for functioning code\n",
    "table_data = json.dumps([])\n",
    "block_data = json.dumps([])\n",
    "regex_data = json.dumps([])\n",
    "footnote_data = json.dumps([])\n",
    "term_data = json.dumps([])\n",
    "\n",
    "document_path = os.path.join(fdir, fname)\n",
    "\n",
    "# Simple extraction of all of the text in the file. \n",
    "# Everything is saved to content_text_data variable\n",
    "with fitz.open(document_path) as doc:\n",
    "    for page_no, page in enumerate(doc, 1):\n",
    "        print(page_no)\n",
    "        # Koguteksti salvestamine json-ina\n",
    "        full_text_page_json = [{\n",
    "            \"page_number\": page.number + 1,  # Page numbers are zero-based in PyMuPDF\n",
    "            \"text\": reformat_text(page.get_text())\n",
    "            }]\n",
    "    \n",
    "        content_text_data.extend(full_text_page_json)\n",
    "\n"
   ]
  },
  {
   "cell_type": "code",
   "execution_count": null,
   "metadata": {},
   "outputs": [],
   "source": [
    "# Collecting all structured textual information\n",
    "content_dict = {\n",
    "        'table_data': json.loads(table_data),\n",
    "        'footnote_data': json.loads(footnote_data),\n",
    "        'content_text_data': content_text_data,\n",
    "        'term_data': json.loads(term_data)\n",
    "    }"
   ]
  },
  {
   "cell_type": "code",
   "execution_count": null,
   "metadata": {},
   "outputs": [],
   "source": [
    "content_dict"
   ]
  },
  {
   "cell_type": "code",
   "execution_count": null,
   "metadata": {},
   "outputs": [],
   "source": [
    "# Saving the parsed data as JSON.\n",
    "\n",
    "print('Saving to', os.path.join(output_fdir, output_fname))\n",
    "      \n",
    "with open(os.path.join(output_fdir, output_fname), 'w') as fout:\n",
    "          \n",
    "    content_dict = {\n",
    "        'table_data': json.loads(table_data),\n",
    "        'footnote_data': json.loads(footnote_data),\n",
    "        'content_text_data': content_text_data,\n",
    "        'term_data': json.loads(term_data)\n",
    "    }\n",
    "          \n",
    "    metadata.update(content_dict)\n",
    "\n",
    "    fout.write(json.dumps(metadata))\n",
    "\n",
    "    "
   ]
  },
  {
   "cell_type": "code",
   "execution_count": null,
   "metadata": {},
   "outputs": [],
   "source": [
    "json.dumps(metadata)"
   ]
  }
 ],
 "metadata": {
  "kernelspec": {
   "display_name": "Python 3",
   "language": "python",
   "name": "python3"
  },
  "language_info": {
   "codemirror_mode": {
    "name": "ipython",
    "version": 3
   },
   "file_extension": ".py",
   "mimetype": "text/x-python",
   "name": "python",
   "nbconvert_exporter": "python",
   "pygments_lexer": "ipython3",
   "version": "3.11.7"
  }
 },
 "nbformat": 4,
 "nbformat_minor": 2
}
