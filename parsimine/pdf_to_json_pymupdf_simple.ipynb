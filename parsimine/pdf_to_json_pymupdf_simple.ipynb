{
 "cells": [
  {
   "cell_type": "code",
   "execution_count": null,
   "metadata": {},
   "outputs": [],
   "source": [
    "import json\n",
    "import os\n",
    "\n",
    "import fitz\n",
    "from parser_utils import reformat_text"
   ]
  },
  {
   "cell_type": "code",
   "execution_count": null,
   "metadata": {},
   "outputs": [],
   "source": [
    "# Fill in parameters\n",
    "\n",
    "fdir = 'C:\\\\Users\\\\sandra.eiche\\\\OneDrive - Eesti Keele Instituut\\\\Documents\\\\KVA\\\\pdfid\\\\240430_alla_laetud'\n",
    "fname = 'AJP-3.3.1 Ed.B.pdf'\n",
    "\n",
    "output_fdir = 'C:\\\\Users\\\\sandra.eiche\\\\OneDrive - Eesti Keele Instituut\\\\Documents\\\\KVA\\\\kva_parsed_jsons_pymupdf_simple_v2'\n",
    "output_fname = fname.rsplit('.', 1)[0] + '_pymupdf_simple_v2' + '.json'"
   ]
  },
  {
   "cell_type": "markdown",
   "metadata": {},
   "source": [
    "Printing file metadata, might be helpful for filling in metadata that will be uploaded to database. "
   ]
  },
  {
   "cell_type": "code",
   "execution_count": null,
   "metadata": {},
   "outputs": [],
   "source": [
    "with fitz.open(os.path.join(fdir, fname)) as doc:\n",
    "    print(fname)\n",
    "    for k, v in doc.metadata.items():\n",
    "        print(k, ':', v)"
   ]
  },
  {
   "cell_type": "code",
   "execution_count": null,
   "metadata": {},
   "outputs": [],
   "source": [
    "metadata = {\n",
    "    'filename' : fname,\n",
    "    \"publication\": \"\",\n",
    "    \"publication_year\": 2010,\n",
    "    \"title\": \"AJP-3.3.1 ALLIED JOINT DOCTRINE FOR COUNTER – AIR\",\n",
    "    \"author\": \"\",\n",
    "    \"languages\": [\n",
    "        \"en\"\n",
    "    ],\n",
    "    \"field_keywords\": [\n",
    "    ]\n",
    "}"
   ]
  },
  {
   "cell_type": "markdown",
   "metadata": {},
   "source": [
    "---\n",
    "### Parsing"
   ]
  },
  {
   "cell_type": "code",
   "execution_count": null,
   "metadata": {},
   "outputs": [],
   "source": [
    "\n",
    "content_text_data = []\n",
    "\n",
    "document_path = os.path.join(fdir, fname)\n",
    "\n",
    "# Simple extraction of all of the text in the file. \n",
    "# Everything is saved to content_text_data variable\n",
    "with fitz.open(document_path) as doc:\n",
    "    for page_no, page in enumerate(doc, 1):\n",
    "        # Koguteksti salvestamine json-ina\n",
    "        full_text_page_json = [{\n",
    "            \"page_number\": page.number + 1,  # Page numbers are zero-based in PyMuPDF\n",
    "            \"text\": reformat_text(page.get_text())\n",
    "            }]\n",
    "    \n",
    "        content_text_data.extend(full_text_page_json)\n",
    "\n"
   ]
  },
  {
   "cell_type": "code",
   "execution_count": null,
   "metadata": {},
   "outputs": [],
   "source": [
    "# Collecting all structured textual information\n",
    "content_dict = {\n",
    "        'content_text_data': content_text_data,\n",
    "    }"
   ]
  },
  {
   "cell_type": "code",
   "execution_count": null,
   "metadata": {},
   "outputs": [],
   "source": [
    "content_dict"
   ]
  },
  {
   "cell_type": "code",
   "execution_count": null,
   "metadata": {},
   "outputs": [],
   "source": [
    "# Saving the parsed data as JSON.\n",
    "\n",
    "print('Saving to', os.path.join(output_fdir, output_fname))\n",
    "\n",
    "assert not os.path.isfile(os.path.join(output_fdir, output_fname))\n",
    "      \n",
    "with open(os.path.join(output_fdir, output_fname), 'w') as fout:\n",
    "          \n",
    "    content_dict = {\n",
    "        'content_text_data': content_text_data,\n",
    "    }\n",
    "          \n",
    "    metadata.update(content_dict)\n",
    "\n",
    "    fout.write(json.dumps(metadata))\n",
    "\n",
    "    "
   ]
  },
  {
   "cell_type": "code",
   "execution_count": null,
   "metadata": {},
   "outputs": [],
   "source": [
    "json.dumps(metadata)"
   ]
  }
 ],
 "metadata": {
  "kernelspec": {
   "display_name": "Python 3",
   "language": "python",
   "name": "python3"
  },
  "language_info": {
   "codemirror_mode": {
    "name": "ipython",
    "version": 3
   },
   "file_extension": ".py",
   "mimetype": "text/x-python",
   "name": "python",
   "nbconvert_exporter": "python",
   "pygments_lexer": "ipython3",
   "version": "3.11.7"
  }
 },
 "nbformat": 4,
 "nbformat_minor": 2
}
